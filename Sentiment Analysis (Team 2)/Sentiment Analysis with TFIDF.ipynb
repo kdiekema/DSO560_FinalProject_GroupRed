{
 "cells": [
  {
   "cell_type": "markdown",
   "id": "23aee4b5",
   "metadata": {
    "heading_collapsed": true
   },
   "source": [
    "# Load Packages & Data"
   ]
  },
  {
   "cell_type": "code",
   "execution_count": 1,
   "id": "1ef05e29",
   "metadata": {
    "ExecuteTime": {
     "end_time": "2021-12-14T19:20:49.152072Z",
     "start_time": "2021-12-14T19:20:46.616077Z"
    },
    "hidden": true
   },
   "outputs": [],
   "source": [
    "import pandas as pd\n",
    "import nltk\n",
    "from nltk.corpus import stopwords\n",
    "from nltk.stem import PorterStemmer\n",
    "from sklearn.feature_extraction.text import TfidfVectorizer\n",
    "from collections import Counter\n",
    "from itertools import islice"
   ]
  },
  {
   "cell_type": "code",
   "execution_count": 2,
   "id": "95bc5f78",
   "metadata": {
    "ExecuteTime": {
     "end_time": "2021-12-14T19:20:49.392326Z",
     "start_time": "2021-12-14T19:20:49.152072Z"
    },
    "hidden": true
   },
   "outputs": [
    {
     "data": {
      "text/html": [
       "<div>\n",
       "<style scoped>\n",
       "    .dataframe tbody tr th:only-of-type {\n",
       "        vertical-align: middle;\n",
       "    }\n",
       "\n",
       "    .dataframe tbody tr th {\n",
       "        vertical-align: top;\n",
       "    }\n",
       "\n",
       "    .dataframe thead th {\n",
       "        text-align: right;\n",
       "    }\n",
       "</style>\n",
       "<table border=\"1\" class=\"dataframe\">\n",
       "  <thead>\n",
       "    <tr style=\"text-align: right;\">\n",
       "      <th></th>\n",
       "      <th>review</th>\n",
       "      <th>title</th>\n",
       "      <th>rating</th>\n",
       "      <th>music_app</th>\n",
       "      <th>platform</th>\n",
       "    </tr>\n",
       "  </thead>\n",
       "  <tbody>\n",
       "    <tr>\n",
       "      <th>0</th>\n",
       "      <td>This is by far the best music app I have ever ...</td>\n",
       "      <td>This is the best for me....</td>\n",
       "      <td>5</td>\n",
       "      <td>Amazon</td>\n",
       "      <td>iOS</td>\n",
       "    </tr>\n",
       "    <tr>\n",
       "      <th>1</th>\n",
       "      <td>I really like this app but I have tried an tri...</td>\n",
       "      <td>The refreshing is annoying</td>\n",
       "      <td>4</td>\n",
       "      <td>Amazon</td>\n",
       "      <td>iOS</td>\n",
       "    </tr>\n",
       "    <tr>\n",
       "      <th>2</th>\n",
       "      <td>This app is great, i've been using it for a co...</td>\n",
       "      <td>Glitchy songs</td>\n",
       "      <td>4</td>\n",
       "      <td>Amazon</td>\n",
       "      <td>iOS</td>\n",
       "    </tr>\n",
       "    <tr>\n",
       "      <th>3</th>\n",
       "      <td>Not a bad music app. Selection is good could b...</td>\n",
       "      <td>Needs Garlic</td>\n",
       "      <td>3</td>\n",
       "      <td>Amazon</td>\n",
       "      <td>iOS</td>\n",
       "    </tr>\n",
       "    <tr>\n",
       "      <th>4</th>\n",
       "      <td>This is one of the most used app on my phone, ...</td>\n",
       "      <td>Love the Alexa integration, Hate the constant ...</td>\n",
       "      <td>2</td>\n",
       "      <td>Amazon</td>\n",
       "      <td>iOS</td>\n",
       "    </tr>\n",
       "  </tbody>\n",
       "</table>\n",
       "</div>"
      ],
      "text/plain": [
       "                                              review  \\\n",
       "0  This is by far the best music app I have ever ...   \n",
       "1  I really like this app but I have tried an tri...   \n",
       "2  This app is great, i've been using it for a co...   \n",
       "3  Not a bad music app. Selection is good could b...   \n",
       "4  This is one of the most used app on my phone, ...   \n",
       "\n",
       "                                               title  rating music_app  \\\n",
       "0                        This is the best for me....       5    Amazon   \n",
       "1                         The refreshing is annoying       4    Amazon   \n",
       "2                                      Glitchy songs       4    Amazon   \n",
       "3                                       Needs Garlic       3    Amazon   \n",
       "4  Love the Alexa integration, Hate the constant ...       2    Amazon   \n",
       "\n",
       "  platform  \n",
       "0      iOS  \n",
       "1      iOS  \n",
       "2      iOS  \n",
       "3      iOS  \n",
       "4      iOS  "
      ]
     },
     "execution_count": 2,
     "metadata": {},
     "output_type": "execute_result"
    }
   ],
   "source": [
    "ios = pd.read_csv(\"../data/ios_data.csv\").drop(\"Unnamed: 0\", axis = 1)\n",
    "ios.head()"
   ]
  },
  {
   "cell_type": "code",
   "execution_count": 3,
   "id": "a1105d39",
   "metadata": {
    "ExecuteTime": {
     "end_time": "2021-12-14T19:20:49.552068Z",
     "start_time": "2021-12-14T19:20:49.392326Z"
    },
    "hidden": true
   },
   "outputs": [
    {
     "data": {
      "text/html": [
       "<div>\n",
       "<style scoped>\n",
       "    .dataframe tbody tr th:only-of-type {\n",
       "        vertical-align: middle;\n",
       "    }\n",
       "\n",
       "    .dataframe tbody tr th {\n",
       "        vertical-align: top;\n",
       "    }\n",
       "\n",
       "    .dataframe thead th {\n",
       "        text-align: right;\n",
       "    }\n",
       "</style>\n",
       "<table border=\"1\" class=\"dataframe\">\n",
       "  <thead>\n",
       "    <tr style=\"text-align: right;\">\n",
       "      <th></th>\n",
       "      <th>review</th>\n",
       "      <th>rating</th>\n",
       "      <th>music_app</th>\n",
       "      <th>platform</th>\n",
       "    </tr>\n",
       "  </thead>\n",
       "  <tbody>\n",
       "    <tr>\n",
       "      <th>0</th>\n",
       "      <td>I love Amazon music app</td>\n",
       "      <td>5</td>\n",
       "      <td>Amazon</td>\n",
       "      <td>android</td>\n",
       "    </tr>\n",
       "    <tr>\n",
       "      <th>1</th>\n",
       "      <td>It moves between devices easily and offers a g...</td>\n",
       "      <td>5</td>\n",
       "      <td>Amazon</td>\n",
       "      <td>android</td>\n",
       "    </tr>\n",
       "    <tr>\n",
       "      <th>2</th>\n",
       "      <td>Like it all the music I love!</td>\n",
       "      <td>5</td>\n",
       "      <td>Amazon</td>\n",
       "      <td>android</td>\n",
       "    </tr>\n",
       "    <tr>\n",
       "      <th>3</th>\n",
       "      <td>Amazon always delivers, great quality and endl...</td>\n",
       "      <td>5</td>\n",
       "      <td>Amazon</td>\n",
       "      <td>android</td>\n",
       "    </tr>\n",
       "    <tr>\n",
       "      <th>4</th>\n",
       "      <td>Love it!</td>\n",
       "      <td>5</td>\n",
       "      <td>Amazon</td>\n",
       "      <td>android</td>\n",
       "    </tr>\n",
       "  </tbody>\n",
       "</table>\n",
       "</div>"
      ],
      "text/plain": [
       "                                              review  rating music_app  \\\n",
       "0                            I love Amazon music app       5    Amazon   \n",
       "1  It moves between devices easily and offers a g...       5    Amazon   \n",
       "2                      Like it all the music I love!       5    Amazon   \n",
       "3  Amazon always delivers, great quality and endl...       5    Amazon   \n",
       "4                                           Love it!       5    Amazon   \n",
       "\n",
       "  platform  \n",
       "0  android  \n",
       "1  android  \n",
       "2  android  \n",
       "3  android  \n",
       "4  android  "
      ]
     },
     "execution_count": 3,
     "metadata": {},
     "output_type": "execute_result"
    }
   ],
   "source": [
    "android = pd.read_csv(\"../data/android_data.csv\").drop(\"Unnamed: 0\", axis = 1)\n",
    "android.head()"
   ]
  },
  {
   "cell_type": "code",
   "execution_count": 4,
   "id": "b1073ff8",
   "metadata": {
    "ExecuteTime": {
     "end_time": "2021-12-14T19:20:49.592323Z",
     "start_time": "2021-12-14T19:20:49.552068Z"
    },
    "hidden": true
   },
   "outputs": [],
   "source": [
    "#split out by app and os so we can get a more in depth analysis\n",
    "ios_amazon = ios[ios['music_app'] == 'Amazon']\n",
    "ios_apple = ios[ios['music_app'] == 'Apple']\n",
    "ios_spotify = ios[ios['music_app'] == 'Spotify']\n",
    "\n",
    "android_amazon = android[android['music_app'] == 'Amazon']\n",
    "android_apple = android[android['music_app'] == 'Apple']\n",
    "android_spotify = android[android['music_app'] == 'Spotify']"
   ]
  },
  {
   "cell_type": "markdown",
   "id": "e70b4340",
   "metadata": {},
   "source": [
    "# Text Proprocessing"
   ]
  },
  {
   "cell_type": "code",
   "execution_count": 5,
   "id": "e4ac1ca1",
   "metadata": {
    "ExecuteTime": {
     "end_time": "2021-12-14T19:20:49.608304Z",
     "start_time": "2021-12-14T19:20:49.592323Z"
    }
   },
   "outputs": [],
   "source": [
    "def remove_malformed_chars(dataframes, col):\n",
    "    for dataset in dataframes:\n",
    "        dataset[col] = dataset[col].str.replace(r\"([^A-Za-z1-9 ])\", \" \")\n",
    "    return dataset[col]"
   ]
  },
  {
   "cell_type": "code",
   "execution_count": 6,
   "id": "aea099b0",
   "metadata": {
    "ExecuteTime": {
     "end_time": "2021-12-14T19:20:49.872317Z",
     "start_time": "2021-12-14T19:20:49.608304Z"
    }
   },
   "outputs": [
    {
     "name": "stderr",
     "output_type": "stream",
     "text": [
      "C:\\Users\\kardi\\AppData\\Local\\Temp/ipykernel_26400/3408790419.py:3: FutureWarning: The default value of regex will change from True to False in a future version.\n",
      "  dataset[col] = dataset[col].str.replace(r\"([^A-Za-z1-9 ])\", \" \")\n",
      "C:\\Users\\kardi\\AppData\\Local\\Temp/ipykernel_26400/3408790419.py:3: SettingWithCopyWarning: \n",
      "A value is trying to be set on a copy of a slice from a DataFrame.\n",
      "Try using .loc[row_indexer,col_indexer] = value instead\n",
      "\n",
      "See the caveats in the documentation: https://pandas.pydata.org/pandas-docs/stable/user_guide/indexing.html#returning-a-view-versus-a-copy\n",
      "  dataset[col] = dataset[col].str.replace(r\"([^A-Za-z1-9 ])\", \" \")\n"
     ]
    },
    {
     "data": {
      "text/plain": [
       "31198    Best application for music   This application ...\n",
       "31199    This is a good app if you have premium however...\n",
       "31200    I found all the songs i was looking for and so...\n",
       "31201                                         Help Thank u\n",
       "31202    Used to have lyrics  then they didn t  now the...\n",
       "                               ...                        \n",
       "51392                                                     \n",
       "51393                                   I hate only ads XD\n",
       "51394    I can t search and play some songs other than ...\n",
       "51395                                      Just works well\n",
       "51396                                              Awesome\n",
       "Name: review, Length: 20199, dtype: object"
      ]
     },
     "execution_count": 6,
     "metadata": {},
     "output_type": "execute_result"
    }
   ],
   "source": [
    "remove_malformed_chars([ios_amazon, ios_apple, ios_spotify, android_amazon, android_apple, android_spotify], 'review')"
   ]
  },
  {
   "cell_type": "code",
   "execution_count": 7,
   "id": "c6814849",
   "metadata": {
    "ExecuteTime": {
     "end_time": "2021-12-14T19:20:49.904068Z",
     "start_time": "2021-12-14T19:20:49.872317Z"
    }
   },
   "outputs": [
    {
     "name": "stderr",
     "output_type": "stream",
     "text": [
      "C:\\Users\\kardi\\AppData\\Local\\Temp/ipykernel_26400/3408790419.py:3: FutureWarning: The default value of regex will change from True to False in a future version.\n",
      "  dataset[col] = dataset[col].str.replace(r\"([^A-Za-z1-9 ])\", \" \")\n",
      "C:\\Users\\kardi\\AppData\\Local\\Temp/ipykernel_26400/3408790419.py:3: SettingWithCopyWarning: \n",
      "A value is trying to be set on a copy of a slice from a DataFrame.\n",
      "Try using .loc[row_indexer,col_indexer] = value instead\n",
      "\n",
      "See the caveats in the documentation: https://pandas.pydata.org/pandas-docs/stable/user_guide/indexing.html#returning-a-view-versus-a-copy\n",
      "  dataset[col] = dataset[col].str.replace(r\"([^A-Za-z1-9 ])\", \" \")\n"
     ]
    },
    {
     "data": {
      "text/plain": [
       "10654                                      Beat app but   \n",
       "10655                                    It keeps stopping\n",
       "10656    bluetooth wired connection to car  library format\n",
       "10657                 Calm down with the long commercials \n",
       "10658             not bad music source but could be better\n",
       "                               ...                        \n",
       "20649                                         Good  but   \n",
       "20650                             It needs a little fixing\n",
       "20651                               ADDS ARE SO REPETITIVE\n",
       "20652                                  3  second community\n",
       "20653                             Constant crashing   bugs\n",
       "Name: title, Length: 10000, dtype: object"
      ]
     },
     "execution_count": 7,
     "metadata": {},
     "output_type": "execute_result"
    }
   ],
   "source": [
    "remove_malformed_chars([ios_amazon, ios_apple, ios_spotify], 'title')"
   ]
  },
  {
   "cell_type": "code",
   "execution_count": 8,
   "id": "0d44cee8",
   "metadata": {
    "ExecuteTime": {
     "end_time": "2021-12-14T19:20:49.920101Z",
     "start_time": "2021-12-14T19:20:49.904068Z"
    }
   },
   "outputs": [],
   "source": [
    "#determine stopwords beyond default list\n",
    "def stopword_update_analysis(dataset, column):\n",
    "    stopword_list=list(stopwords.words('english'))\n",
    "    \n",
    "    #make temp list of lowercase words since this will be done while stemming so I want the most accurate list\n",
    "    data_lower = pd.Series(dataset[column]).str.lower()\n",
    "    data_lower = data_lower.dropna()\n",
    "    \n",
    "    words = Counter()\n",
    "    for line in data_lower:\n",
    "        tokens = nltk.word_tokenize(line)\n",
    "        for token in tokens:\n",
    "                words[token] += 1\n",
    "\n",
    "    words = words.most_common()\n",
    "    top50full = list(islice(words, 50))\n",
    "    top50 = []\n",
    "    for topword in top50full:\n",
    "        top50.append(topword[0])\n",
    "        \n",
    "    nonstopwords = []\n",
    "    for topword in top50:\n",
    "        if topword not in stopword_list:\n",
    "            nonstopwords.append(topword)\n",
    "    return nonstopwords"
   ]
  },
  {
   "cell_type": "code",
   "execution_count": 9,
   "id": "713b53cd",
   "metadata": {
    "ExecuteTime": {
     "end_time": "2021-12-14T19:20:50.024097Z",
     "start_time": "2021-12-14T19:20:49.920101Z"
    }
   },
   "outputs": [
    {
     "data": {
      "text/plain": [
       "['music',\n",
       " 'apple',\n",
       " 'app',\n",
       " 'good',\n",
       " 'great',\n",
       " 'songs',\n",
       " 'needs',\n",
       " 'update',\n",
       " 'terrible',\n",
       " 'ios',\n",
       " '15',\n",
       " 'better',\n",
       " 'playing',\n",
       " 'service',\n",
       " 'spotify',\n",
       " 'love',\n",
       " 'please',\n",
       " 'ui',\n",
       " 'play',\n",
       " 'song',\n",
       " 'playlist',\n",
       " 'request',\n",
       " 'bad',\n",
       " 'could',\n",
       " 'best',\n",
       " 'need',\n",
       " 'buggy']"
      ]
     },
     "execution_count": 9,
     "metadata": {},
     "output_type": "execute_result"
    }
   ],
   "source": [
    "stopword_update_analysis(ios_apple, 'title')"
   ]
  },
  {
   "cell_type": "code",
   "execution_count": 10,
   "id": "9ac05ce6",
   "metadata": {
    "ExecuteTime": {
     "end_time": "2021-12-14T19:20:50.264104Z",
     "start_time": "2021-12-14T19:20:50.024097Z"
    }
   },
   "outputs": [
    {
     "data": {
      "text/plain": [
       "['music',\n",
       " 'apple',\n",
       " 'app',\n",
       " 'songs',\n",
       " 'like',\n",
       " 'song',\n",
       " 'spotify',\n",
       " 'play',\n",
       " 'playlist',\n",
       " 'library',\n",
       " 'playlists',\n",
       " 'time']"
      ]
     },
     "execution_count": 10,
     "metadata": {},
     "output_type": "execute_result"
    }
   ],
   "source": [
    "stopword_update_analysis(ios_apple, 'review')"
   ]
  },
  {
   "cell_type": "code",
   "execution_count": 11,
   "id": "1752ec38",
   "metadata": {
    "ExecuteTime": {
     "end_time": "2021-12-14T19:20:53.912142Z",
     "start_time": "2021-12-14T19:20:50.264104Z"
    }
   },
   "outputs": [
    {
     "data": {
      "text/plain": [
       "['app',\n",
       " 'music',\n",
       " 'apple',\n",
       " 'songs',\n",
       " 'play',\n",
       " 'good',\n",
       " 'android',\n",
       " 'song',\n",
       " 'great',\n",
       " 'update',\n",
       " 'even',\n",
       " 'like',\n",
       " 'love',\n",
       " 'library',\n",
       " 'download']"
      ]
     },
     "execution_count": 11,
     "metadata": {},
     "output_type": "execute_result"
    }
   ],
   "source": [
    "stopword_update_analysis(android_apple, 'review')"
   ]
  },
  {
   "cell_type": "code",
   "execution_count": 12,
   "id": "45bcac00",
   "metadata": {
    "ExecuteTime": {
     "end_time": "2021-12-14T19:20:55.072092Z",
     "start_time": "2021-12-14T19:20:53.912142Z"
    }
   },
   "outputs": [
    {
     "data": {
      "text/plain": [
       "['app',\n",
       " 'great',\n",
       " 'good',\n",
       " 'love',\n",
       " 'music',\n",
       " 'update',\n",
       " 'songs',\n",
       " 'new',\n",
       " 'ads',\n",
       " 'one',\n",
       " 'best',\n",
       " 'amazing',\n",
       " 'please',\n",
       " 'premium',\n",
       " 'fix',\n",
       " 'problem',\n",
       " 'needs',\n",
       " 'like',\n",
       " 'many',\n",
       " 'better',\n",
       " 'playlist',\n",
       " 'shuffle',\n",
       " 'song',\n",
       " 'issues']"
      ]
     },
     "execution_count": 12,
     "metadata": {},
     "output_type": "execute_result"
    }
   ],
   "source": [
    "stopword_update_analysis(ios_spotify, 'title')"
   ]
  },
  {
   "cell_type": "code",
   "execution_count": 13,
   "id": "061aada1",
   "metadata": {
    "ExecuteTime": {
     "end_time": "2021-12-14T19:20:59.536054Z",
     "start_time": "2021-12-14T19:20:55.072092Z"
    }
   },
   "outputs": [
    {
     "data": {
      "text/plain": [
       "['app',\n",
       " 'songs',\n",
       " 'music',\n",
       " 'song',\n",
       " 'like',\n",
       " 'playlist',\n",
       " 'listen',\n",
       " 'play',\n",
       " 'want',\n",
       " 'get',\n",
       " 'love',\n",
       " 'would',\n",
       " 'premium',\n",
       " 'one']"
      ]
     },
     "execution_count": 13,
     "metadata": {},
     "output_type": "execute_result"
    }
   ],
   "source": [
    "stopword_update_analysis(ios_spotify, 'review')"
   ]
  },
  {
   "cell_type": "code",
   "execution_count": 14,
   "id": "7b8caff8",
   "metadata": {
    "ExecuteTime": {
     "end_time": "2021-12-14T19:21:02.704051Z",
     "start_time": "2021-12-14T19:20:59.536054Z"
    }
   },
   "outputs": [
    {
     "data": {
      "text/plain": [
       "['app',\n",
       " 'music',\n",
       " 'good',\n",
       " 'spotify',\n",
       " 'songs',\n",
       " 'love',\n",
       " 'song',\n",
       " 'ads',\n",
       " 'great',\n",
       " 'like',\n",
       " 'best',\n",
       " 'play',\n",
       " 'listen',\n",
       " 'premium',\n",
       " 'even',\n",
       " 'nice',\n",
       " 'use']"
      ]
     },
     "execution_count": 14,
     "metadata": {},
     "output_type": "execute_result"
    }
   ],
   "source": [
    "stopword_update_analysis(android_spotify, 'review')"
   ]
  },
  {
   "cell_type": "code",
   "execution_count": 15,
   "id": "a41323d9",
   "metadata": {
    "ExecuteTime": {
     "end_time": "2021-12-14T19:21:03.864081Z",
     "start_time": "2021-12-14T19:21:02.704051Z"
    }
   },
   "outputs": [
    {
     "data": {
      "text/plain": [
       "['music',\n",
       " 'app',\n",
       " 'great',\n",
       " 'good',\n",
       " 'love',\n",
       " 'better',\n",
       " 'selection',\n",
       " 'best',\n",
       " 'songs',\n",
       " 'service',\n",
       " 'prime',\n",
       " 'could',\n",
       " 'awesome',\n",
       " 'use',\n",
       " 'needs',\n",
       " 'amazing',\n",
       " 'like',\n",
       " 'pretty',\n",
       " 'easy',\n",
       " 'unlimited',\n",
       " 'one']"
      ]
     },
     "execution_count": 15,
     "metadata": {},
     "output_type": "execute_result"
    }
   ],
   "source": [
    "stopword_update_analysis(ios_amazon, 'title')"
   ]
  },
  {
   "cell_type": "code",
   "execution_count": 16,
   "id": "3d11e656",
   "metadata": {
    "ExecuteTime": {
     "end_time": "2021-12-14T19:21:05.104048Z",
     "start_time": "2021-12-14T19:21:03.864081Z"
    }
   },
   "outputs": [
    {
     "data": {
      "text/plain": [
       "['music',\n",
       " 'app',\n",
       " 'great',\n",
       " 'good',\n",
       " 'love',\n",
       " 'better',\n",
       " 'selection',\n",
       " 'best',\n",
       " 'songs',\n",
       " 'service',\n",
       " 'prime',\n",
       " 'could',\n",
       " 'awesome',\n",
       " 'use',\n",
       " 'needs',\n",
       " 'amazing',\n",
       " 'like',\n",
       " 'pretty',\n",
       " 'easy',\n",
       " 'unlimited',\n",
       " 'one']"
      ]
     },
     "execution_count": 16,
     "metadata": {},
     "output_type": "execute_result"
    }
   ],
   "source": [
    "stopword_update_analysis(ios_amazon, 'title')"
   ]
  },
  {
   "cell_type": "code",
   "execution_count": 17,
   "id": "a35107b9",
   "metadata": {
    "ExecuteTime": {
     "end_time": "2021-12-14T19:21:08.256102Z",
     "start_time": "2021-12-14T19:21:05.104048Z"
    }
   },
   "outputs": [
    {
     "data": {
      "text/plain": [
       "['music',\n",
       " 'app',\n",
       " 'songs',\n",
       " 'song',\n",
       " 'like',\n",
       " 'love',\n",
       " 'listen',\n",
       " 'great',\n",
       " 'play',\n",
       " 'would',\n",
       " 'use',\n",
       " 'prime']"
      ]
     },
     "execution_count": 17,
     "metadata": {},
     "output_type": "execute_result"
    }
   ],
   "source": [
    "stopword_update_analysis(ios_amazon, 'review')"
   ]
  },
  {
   "cell_type": "code",
   "execution_count": 18,
   "id": "22fac202",
   "metadata": {
    "ExecuteTime": {
     "end_time": "2021-12-14T19:21:10.216042Z",
     "start_time": "2021-12-14T19:21:08.256102Z"
    }
   },
   "outputs": [
    {
     "data": {
      "text/plain": [
       "['music',\n",
       " 'app',\n",
       " 'songs',\n",
       " 'amazon',\n",
       " 'good',\n",
       " 'great',\n",
       " 'play',\n",
       " 'love',\n",
       " 'song',\n",
       " 'like',\n",
       " 'use',\n",
       " 'even',\n",
       " 'update']"
      ]
     },
     "execution_count": 18,
     "metadata": {},
     "output_type": "execute_result"
    }
   ],
   "source": [
    "stopword_update_analysis(android_amazon, 'review')"
   ]
  },
  {
   "cell_type": "code",
   "execution_count": 19,
   "id": "0d8a7728",
   "metadata": {
    "ExecuteTime": {
     "end_time": "2021-12-14T19:21:10.232072Z",
     "start_time": "2021-12-14T19:21:10.216042Z"
    }
   },
   "outputs": [],
   "source": [
    "stopword_list = stopwords.words('english')\n",
    "stopword_list.extend(['music', 'songs', 'song', 'like', 'app', 'application', 'great','good','even', 'get','use', 'please', 'would', 'apple', 'ios', 'android', 'spotify', 'amazon'])"
   ]
  },
  {
   "cell_type": "markdown",
   "id": "ac4d7ebd",
   "metadata": {},
   "source": [
    "# Word Frequency Analysis"
   ]
  },
  {
   "cell_type": "markdown",
   "id": "03acee09",
   "metadata": {},
   "source": [
    "## Define Functions"
   ]
  },
  {
   "cell_type": "code",
   "execution_count": 20,
   "id": "ad17adbb",
   "metadata": {
    "ExecuteTime": {
     "end_time": "2021-12-14T19:21:10.248074Z",
     "start_time": "2021-12-14T19:21:10.232072Z"
    }
   },
   "outputs": [],
   "source": [
    "def stemmer(dataset, col):\n",
    "    stemmer = PorterStemmer()\n",
    "    cleaned_reviews = []\n",
    "    \n",
    "    data = dataset[col]\n",
    "      \n",
    "    for review in data:\n",
    "        if review is not None:\n",
    "            words = nltk.word_tokenize(review)\n",
    "            new_words = []\n",
    "            for word in words:\n",
    "                if word in stopword_list:\n",
    "                    continue\n",
    "                else: \n",
    "                    word=stemmer.stem(word)\n",
    "                    new_words.append(word)\n",
    "            cleaned_review = \" \".join(new_words)\n",
    "            cleaned_reviews.append((cleaned_review))\n",
    "    return cleaned_reviews"
   ]
  },
  {
   "cell_type": "code",
   "execution_count": 21,
   "id": "b9857807",
   "metadata": {
    "ExecuteTime": {
     "end_time": "2021-12-14T19:21:10.264070Z",
     "start_time": "2021-12-14T19:21:10.248074Z"
    }
   },
   "outputs": [],
   "source": [
    "def vectorizer(ngramrange, dataset, col, min_df= .5):\n",
    "    vectorizer = TfidfVectorizer(ngram_range=ngramrange, stop_words=stopword_list)\n",
    "    X = vectorizer.fit_transform(dataset[col])\n",
    "    terms = vectorizer.get_feature_names()\n",
    "    tf_idf1 = pd.DataFrame(X.toarray().transpose(), index=terms)\n",
    "\n",
    "    tf_idf1 = tf_idf1.sum(axis=1)\n",
    "    scores = pd.DataFrame(tf_idf1, columns=[\"score\"]).sort_values('score',ascending = False)\n",
    "    return scores"
   ]
  },
  {
   "cell_type": "code",
   "execution_count": 22,
   "id": "baef1edd",
   "metadata": {
    "ExecuteTime": {
     "end_time": "2021-12-14T19:21:10.280042Z",
     "start_time": "2021-12-14T19:21:10.264070Z"
    }
   },
   "outputs": [],
   "source": [
    "#separate negative reviews\n",
    "#negative reviews\n",
    "ios_amazon_negative = ios_amazon[ios_amazon['rating'] <= 2]\n",
    "ios_apple_negative = ios_apple[ios_apple['rating'] <= 2]\n",
    "ios_spotify_negative = ios_spotify[ios_spotify['rating'] <= 2]\n",
    "\n",
    "android_amazon_negative = android_amazon[android_amazon['rating'] <= 2]\n",
    "android_apple_negative = android_apple[android_apple['rating'] <= 2]\n",
    "android_spotify_negative = android_spotify[android_spotify['rating'] <= 2]"
   ]
  },
  {
   "cell_type": "code",
   "execution_count": 23,
   "id": "269c860b",
   "metadata": {
    "ExecuteTime": {
     "end_time": "2021-12-14T19:21:10.296043Z",
     "start_time": "2021-12-14T19:21:10.280042Z"
    }
   },
   "outputs": [],
   "source": [
    "#seperate positive reviews\n",
    "ios_amazon_positive = ios_amazon[ios_amazon['rating'] >= 4]\n",
    "ios_apple_positive = ios_apple[ios_apple['rating'] >= 4]\n",
    "ios_spotify_positive = ios_spotify[ios_spotify['rating'] >= 4]\n",
    "\n",
    "android_amazon_positive = android_amazon[android_amazon['rating'] >= 4]\n",
    "android_apple_positive = android_apple[android_apple['rating'] >= 4]\n",
    "android_spotify_positive = android_spotify[android_spotify['rating'] >= 4]"
   ]
  },
  {
   "cell_type": "markdown",
   "id": "13c34781",
   "metadata": {},
   "source": [
    "## Apple Music Analysis"
   ]
  },
  {
   "cell_type": "markdown",
   "id": "aa749ea8",
   "metadata": {},
   "source": [
    "### Negative Reviews"
   ]
  },
  {
   "cell_type": "code",
   "execution_count": 24,
   "id": "6c07a166",
   "metadata": {
    "ExecuteTime": {
     "end_time": "2021-12-14T19:21:10.408071Z",
     "start_time": "2021-12-14T19:21:10.296043Z"
    }
   },
   "outputs": [
    {
     "name": "stderr",
     "output_type": "stream",
     "text": [
      "C:\\Users\\kardi\\anaconda3\\lib\\site-packages\\sklearn\\utils\\deprecation.py:87: FutureWarning: Function get_feature_names is deprecated; get_feature_names is deprecated in 1.0 and will be removed in 1.2. Please use get_feature_names_out instead.\n",
      "  warnings.warn(msg, category=FutureWarning)\n"
     ]
    },
    {
     "data": {
      "text/html": [
       "<div>\n",
       "<style scoped>\n",
       "    .dataframe tbody tr th:only-of-type {\n",
       "        vertical-align: middle;\n",
       "    }\n",
       "\n",
       "    .dataframe tbody tr th {\n",
       "        vertical-align: top;\n",
       "    }\n",
       "\n",
       "    .dataframe thead th {\n",
       "        text-align: right;\n",
       "    }\n",
       "</style>\n",
       "<table border=\"1\" class=\"dataframe\">\n",
       "  <thead>\n",
       "    <tr style=\"text-align: right;\">\n",
       "      <th></th>\n",
       "      <th>score</th>\n",
       "    </tr>\n",
       "  </thead>\n",
       "  <tbody>\n",
       "    <tr>\n",
       "      <th>worst ux player</th>\n",
       "      <td>1.0</td>\n",
       "    </tr>\n",
       "    <tr>\n",
       "      <th>poor playlist ability</th>\n",
       "      <td>1.0</td>\n",
       "    </tr>\n",
       "    <tr>\n",
       "      <th>offline playback broken</th>\n",
       "      <td>1.0</td>\n",
       "    </tr>\n",
       "    <tr>\n",
       "      <th>deleted years ago</th>\n",
       "      <td>1.0</td>\n",
       "    </tr>\n",
       "    <tr>\n",
       "      <th>performance animation unstable</th>\n",
       "      <td>1.0</td>\n",
       "    </tr>\n",
       "    <tr>\n",
       "      <th>decent service bad</th>\n",
       "      <td>1.0</td>\n",
       "    </tr>\n",
       "    <tr>\n",
       "      <th>plagued perfomance issues</th>\n",
       "      <td>1.0</td>\n",
       "    </tr>\n",
       "    <tr>\n",
       "      <th>play without permission</th>\n",
       "      <td>1.0</td>\n",
       "    </tr>\n",
       "    <tr>\n",
       "      <th>constant requested time</th>\n",
       "      <td>1.0</td>\n",
       "    </tr>\n",
       "    <tr>\n",
       "      <th>poorest ever seen</th>\n",
       "      <td>1.0</td>\n",
       "    </tr>\n",
       "    <tr>\n",
       "      <th>broad definition player</th>\n",
       "      <td>1.0</td>\n",
       "    </tr>\n",
       "    <tr>\n",
       "      <th>changed cuz free</th>\n",
       "      <td>1.0</td>\n",
       "    </tr>\n",
       "    <tr>\n",
       "      <th>really want superior</th>\n",
       "      <td>1.0</td>\n",
       "    </tr>\n",
       "    <tr>\n",
       "      <th>cant make playlists</th>\n",
       "      <td>1.0</td>\n",
       "    </tr>\n",
       "    <tr>\n",
       "      <th>september 21 21</th>\n",
       "      <td>1.0</td>\n",
       "    </tr>\n",
       "  </tbody>\n",
       "</table>\n",
       "</div>"
      ],
      "text/plain": [
       "                                score\n",
       "worst ux player                   1.0\n",
       "poor playlist ability             1.0\n",
       "offline playback broken           1.0\n",
       "deleted years ago                 1.0\n",
       "performance animation unstable    1.0\n",
       "decent service bad                1.0\n",
       "plagued perfomance issues         1.0\n",
       "play without permission           1.0\n",
       "constant requested time           1.0\n",
       "poorest ever seen                 1.0\n",
       "broad definition player           1.0\n",
       "changed cuz free                  1.0\n",
       "really want superior              1.0\n",
       "cant make playlists               1.0\n",
       "september 21 21                   1.0"
      ]
     },
     "execution_count": 24,
     "metadata": {},
     "output_type": "execute_result"
    }
   ],
   "source": [
    "stemmer(ios_apple_negative, 'title')\n",
    "vectorizer((3,3),ios_apple_negative, 'title').head(15)"
   ]
  },
  {
   "cell_type": "code",
   "execution_count": 25,
   "id": "4ae66003",
   "metadata": {
    "ExecuteTime": {
     "end_time": "2021-12-14T19:21:11.024078Z",
     "start_time": "2021-12-14T19:21:10.408071Z"
    }
   },
   "outputs": [
    {
     "name": "stderr",
     "output_type": "stream",
     "text": [
      "C:\\Users\\kardi\\anaconda3\\lib\\site-packages\\sklearn\\utils\\deprecation.py:87: FutureWarning: Function get_feature_names is deprecated; get_feature_names is deprecated in 1.0 and will be removed in 1.2. Please use get_feature_names_out instead.\n",
      "  warnings.warn(msg, category=FutureWarning)\n"
     ]
    },
    {
     "data": {
      "text/html": [
       "<div>\n",
       "<style scoped>\n",
       "    .dataframe tbody tr th:only-of-type {\n",
       "        vertical-align: middle;\n",
       "    }\n",
       "\n",
       "    .dataframe tbody tr th {\n",
       "        vertical-align: top;\n",
       "    }\n",
       "\n",
       "    .dataframe thead th {\n",
       "        text-align: right;\n",
       "    }\n",
       "</style>\n",
       "<table border=\"1\" class=\"dataframe\">\n",
       "  <thead>\n",
       "    <tr style=\"text-align: right;\">\n",
       "      <th></th>\n",
       "      <th>score</th>\n",
       "    </tr>\n",
       "  </thead>\n",
       "  <tbody>\n",
       "    <tr>\n",
       "      <th>keeps crashing try</th>\n",
       "      <td>1.158603</td>\n",
       "    </tr>\n",
       "    <tr>\n",
       "      <th>able share playlists</th>\n",
       "      <td>1.000000</td>\n",
       "    </tr>\n",
       "    <tr>\n",
       "      <th>glitches starts pauses</th>\n",
       "      <td>1.000000</td>\n",
       "    </tr>\n",
       "    <tr>\n",
       "      <th>keeps downloading playlists</th>\n",
       "      <td>1.000000</td>\n",
       "    </tr>\n",
       "    <tr>\n",
       "      <th>skips way many</th>\n",
       "      <td>1.000000</td>\n",
       "    </tr>\n",
       "    <tr>\n",
       "      <th>slow loading time</th>\n",
       "      <td>1.000000</td>\n",
       "    </tr>\n",
       "    <tr>\n",
       "      <th>stop playing randomly</th>\n",
       "      <td>1.000000</td>\n",
       "    </tr>\n",
       "    <tr>\n",
       "      <th>stoped working fix</th>\n",
       "      <td>1.000000</td>\n",
       "    </tr>\n",
       "    <tr>\n",
       "      <th>best upgrade crappy</th>\n",
       "      <td>1.000000</td>\n",
       "    </tr>\n",
       "    <tr>\n",
       "      <th>fix paying customer</th>\n",
       "      <td>1.000000</td>\n",
       "    </tr>\n",
       "    <tr>\n",
       "      <th>system eq perfect</th>\n",
       "      <td>1.000000</td>\n",
       "    </tr>\n",
       "    <tr>\n",
       "      <th>says free try</th>\n",
       "      <td>1.000000</td>\n",
       "    </tr>\n",
       "    <tr>\n",
       "      <th>taking time heck</th>\n",
       "      <td>1.000000</td>\n",
       "    </tr>\n",
       "    <tr>\n",
       "      <th>definitely free iphone</th>\n",
       "      <td>1.000000</td>\n",
       "    </tr>\n",
       "    <tr>\n",
       "      <th>add language option</th>\n",
       "      <td>1.000000</td>\n",
       "    </tr>\n",
       "  </tbody>\n",
       "</table>\n",
       "</div>"
      ],
      "text/plain": [
       "                                score\n",
       "keeps crashing try           1.158603\n",
       "able share playlists         1.000000\n",
       "glitches starts pauses       1.000000\n",
       "keeps downloading playlists  1.000000\n",
       "skips way many               1.000000\n",
       "slow loading time            1.000000\n",
       "stop playing randomly        1.000000\n",
       "stoped working fix           1.000000\n",
       "best upgrade crappy          1.000000\n",
       "fix paying customer          1.000000\n",
       "system eq perfect            1.000000\n",
       "says free try                1.000000\n",
       "taking time heck             1.000000\n",
       "definitely free iphone       1.000000\n",
       "add language option          1.000000"
      ]
     },
     "execution_count": 25,
     "metadata": {},
     "output_type": "execute_result"
    }
   ],
   "source": [
    "stemmer(ios_apple_negative, 'review')\n",
    "vectorizer((3,3),ios_apple_negative, 'review').head(15)"
   ]
  },
  {
   "cell_type": "code",
   "execution_count": 42,
   "id": "8f593837",
   "metadata": {
    "ExecuteTime": {
     "end_time": "2021-12-14T19:28:21.025441Z",
     "start_time": "2021-12-14T19:28:09.801431Z"
    }
   },
   "outputs": [
    {
     "name": "stderr",
     "output_type": "stream",
     "text": [
      "C:\\Users\\kardi\\anaconda3\\lib\\site-packages\\sklearn\\utils\\deprecation.py:87: FutureWarning: Function get_feature_names is deprecated; get_feature_names is deprecated in 1.0 and will be removed in 1.2. Please use get_feature_names_out instead.\n",
      "  warnings.warn(msg, category=FutureWarning)\n"
     ]
    },
    {
     "data": {
      "text/html": [
       "<div>\n",
       "<style scoped>\n",
       "    .dataframe tbody tr th:only-of-type {\n",
       "        vertical-align: middle;\n",
       "    }\n",
       "\n",
       "    .dataframe tbody tr th {\n",
       "        vertical-align: top;\n",
       "    }\n",
       "\n",
       "    .dataframe thead th {\n",
       "        text-align: right;\n",
       "    }\n",
       "</style>\n",
       "<table border=\"1\" class=\"dataframe\">\n",
       "  <thead>\n",
       "    <tr style=\"text-align: right;\">\n",
       "      <th></th>\n",
       "      <th>score</th>\n",
       "    </tr>\n",
       "  </thead>\n",
       "  <tbody>\n",
       "    <tr>\n",
       "      <th>since last update</th>\n",
       "      <td>15.631611</td>\n",
       "    </tr>\n",
       "    <tr>\n",
       "      <th>something went wrong</th>\n",
       "      <td>8.029838</td>\n",
       "    </tr>\n",
       "    <tr>\n",
       "      <th>listen already purchased</th>\n",
       "      <td>7.870835</td>\n",
       "    </tr>\n",
       "    <tr>\n",
       "      <th>listen already paid</th>\n",
       "      <td>7.837425</td>\n",
       "    </tr>\n",
       "    <tr>\n",
       "      <th>pay listen already</th>\n",
       "      <td>7.446306</td>\n",
       "    </tr>\n",
       "    <tr>\n",
       "      <th>add new library</th>\n",
       "      <td>6.959430</td>\n",
       "    </tr>\n",
       "    <tr>\n",
       "      <th>crashes every time</th>\n",
       "      <td>6.357150</td>\n",
       "    </tr>\n",
       "    <tr>\n",
       "      <th>every time try</th>\n",
       "      <td>5.399294</td>\n",
       "    </tr>\n",
       "    <tr>\n",
       "      <th>since new update</th>\n",
       "      <td>5.352848</td>\n",
       "    </tr>\n",
       "    <tr>\n",
       "      <th>new update sucks</th>\n",
       "      <td>5.296272</td>\n",
       "    </tr>\n",
       "    <tr>\n",
       "      <th>takes forever load</th>\n",
       "      <td>5.096107</td>\n",
       "    </tr>\n",
       "    <tr>\n",
       "      <th>every time open</th>\n",
       "      <td>5.042774</td>\n",
       "    </tr>\n",
       "    <tr>\n",
       "      <th>pay monthly fee</th>\n",
       "      <td>4.553263</td>\n",
       "    </tr>\n",
       "    <tr>\n",
       "      <th>listen already bought</th>\n",
       "      <td>4.529517</td>\n",
       "    </tr>\n",
       "    <tr>\n",
       "      <th>access itunes library</th>\n",
       "      <td>4.488986</td>\n",
       "    </tr>\n",
       "  </tbody>\n",
       "</table>\n",
       "</div>"
      ],
      "text/plain": [
       "                              score\n",
       "since last update         15.631611\n",
       "something went wrong       8.029838\n",
       "listen already purchased   7.870835\n",
       "listen already paid        7.837425\n",
       "pay listen already         7.446306\n",
       "add new library            6.959430\n",
       "crashes every time         6.357150\n",
       "every time try             5.399294\n",
       "since new update           5.352848\n",
       "new update sucks           5.296272\n",
       "takes forever load         5.096107\n",
       "every time open            5.042774\n",
       "pay monthly fee            4.553263\n",
       "listen already bought      4.529517\n",
       "access itunes library      4.488986"
      ]
     },
     "execution_count": 42,
     "metadata": {},
     "output_type": "execute_result"
    }
   ],
   "source": [
    "stemmer(android_apple_negative, 'review')\n",
    "vectorizer((3,3),android_apple_negative, 'review').head(15)"
   ]
  },
  {
   "cell_type": "markdown",
   "id": "a7eda654",
   "metadata": {},
   "source": [
    "Some recurring complaints about Apple Music's platform include:\n",
    "- glitches and bugs making the app slow, crash, or have poor performance overall \n",
    "- updates that make the platform performance worse\n",
    "- issues with playlists"
   ]
  },
  {
   "cell_type": "markdown",
   "id": "04c8c0e9",
   "metadata": {},
   "source": [
    "### Positive Reviews"
   ]
  },
  {
   "cell_type": "code",
   "execution_count": 27,
   "id": "8f077a22",
   "metadata": {
    "ExecuteTime": {
     "end_time": "2021-12-14T19:21:13.280036Z",
     "start_time": "2021-12-14T19:21:13.232073Z"
    }
   },
   "outputs": [
    {
     "name": "stderr",
     "output_type": "stream",
     "text": [
      "C:\\Users\\kardi\\anaconda3\\lib\\site-packages\\sklearn\\utils\\deprecation.py:87: FutureWarning: Function get_feature_names is deprecated; get_feature_names is deprecated in 1.0 and will be removed in 1.2. Please use get_feature_names_out instead.\n",
      "  warnings.warn(msg, category=FutureWarning)\n"
     ]
    },
    {
     "data": {
      "text/html": [
       "<div>\n",
       "<style scoped>\n",
       "    .dataframe tbody tr th:only-of-type {\n",
       "        vertical-align: middle;\n",
       "    }\n",
       "\n",
       "    .dataframe tbody tr th {\n",
       "        vertical-align: top;\n",
       "    }\n",
       "\n",
       "    .dataframe thead th {\n",
       "        text-align: right;\n",
       "    }\n",
       "</style>\n",
       "<table border=\"1\" class=\"dataframe\">\n",
       "  <thead>\n",
       "    <tr style=\"text-align: right;\">\n",
       "      <th></th>\n",
       "      <th>score</th>\n",
       "    </tr>\n",
       "  </thead>\n",
       "  <tbody>\n",
       "    <tr>\n",
       "      <th>best streaming service</th>\n",
       "      <td>1.096668</td>\n",
       "    </tr>\n",
       "    <tr>\n",
       "      <th>service less ui</th>\n",
       "      <td>1.000000</td>\n",
       "    </tr>\n",
       "    <tr>\n",
       "      <th>small problem read</th>\n",
       "      <td>1.000000</td>\n",
       "    </tr>\n",
       "    <tr>\n",
       "      <th>joe ridley jr</th>\n",
       "      <td>1.000000</td>\n",
       "    </tr>\n",
       "    <tr>\n",
       "      <th>needs preference options</th>\n",
       "      <td>1.000000</td>\n",
       "    </tr>\n",
       "    <tr>\n",
       "      <th>player could improvements</th>\n",
       "      <td>1.000000</td>\n",
       "    </tr>\n",
       "    <tr>\n",
       "      <th>one thing ok</th>\n",
       "      <td>1.000000</td>\n",
       "    </tr>\n",
       "    <tr>\n",
       "      <th>gotta say something</th>\n",
       "      <td>1.000000</td>\n",
       "    </tr>\n",
       "    <tr>\n",
       "      <th>gets job done</th>\n",
       "      <td>1.000000</td>\n",
       "    </tr>\n",
       "    <tr>\n",
       "      <th>mines little bugged</th>\n",
       "      <td>1.000000</td>\n",
       "    </tr>\n",
       "    <tr>\n",
       "      <th>ui needs improvement</th>\n",
       "      <td>1.000000</td>\n",
       "    </tr>\n",
       "    <tr>\n",
       "      <th>needs one feature</th>\n",
       "      <td>1.000000</td>\n",
       "    </tr>\n",
       "    <tr>\n",
       "      <th>fantastic awful glitches</th>\n",
       "      <td>1.000000</td>\n",
       "    </tr>\n",
       "    <tr>\n",
       "      <th>custom colors plz</th>\n",
       "      <td>1.000000</td>\n",
       "    </tr>\n",
       "    <tr>\n",
       "      <th>could simple improvements</th>\n",
       "      <td>1.000000</td>\n",
       "    </tr>\n",
       "  </tbody>\n",
       "</table>\n",
       "</div>"
      ],
      "text/plain": [
       "                              score\n",
       "best streaming service     1.096668\n",
       "service less ui            1.000000\n",
       "small problem read         1.000000\n",
       "joe ridley jr              1.000000\n",
       "needs preference options   1.000000\n",
       "player could improvements  1.000000\n",
       "one thing ok               1.000000\n",
       "gotta say something        1.000000\n",
       "gets job done              1.000000\n",
       "mines little bugged        1.000000\n",
       "ui needs improvement       1.000000\n",
       "needs one feature          1.000000\n",
       "fantastic awful glitches   1.000000\n",
       "custom colors plz          1.000000\n",
       "could simple improvements  1.000000"
      ]
     },
     "execution_count": 27,
     "metadata": {},
     "output_type": "execute_result"
    }
   ],
   "source": [
    "stemmer(ios_apple_positive, 'title')\n",
    "vectorizer((3,3),ios_apple_positive, 'title').head(15)"
   ]
  },
  {
   "cell_type": "code",
   "execution_count": 28,
   "id": "c6fe7c3d",
   "metadata": {
    "ExecuteTime": {
     "end_time": "2021-12-14T19:21:13.456038Z",
     "start_time": "2021-12-14T19:21:13.280036Z"
    }
   },
   "outputs": [
    {
     "name": "stderr",
     "output_type": "stream",
     "text": [
      "C:\\Users\\kardi\\anaconda3\\lib\\site-packages\\sklearn\\utils\\deprecation.py:87: FutureWarning: Function get_feature_names is deprecated; get_feature_names is deprecated in 1.0 and will be removed in 1.2. Please use get_feature_names_out instead.\n",
      "  warnings.warn(msg, category=FutureWarning)\n"
     ]
    },
    {
     "data": {
      "text/html": [
       "<div>\n",
       "<style scoped>\n",
       "    .dataframe tbody tr th:only-of-type {\n",
       "        vertical-align: middle;\n",
       "    }\n",
       "\n",
       "    .dataframe tbody tr th {\n",
       "        vertical-align: top;\n",
       "    }\n",
       "\n",
       "    .dataframe thead th {\n",
       "        text-align: right;\n",
       "    }\n",
       "</style>\n",
       "<table border=\"1\" class=\"dataframe\">\n",
       "  <thead>\n",
       "    <tr style=\"text-align: right;\">\n",
       "      <th></th>\n",
       "      <th>score</th>\n",
       "    </tr>\n",
       "  </thead>\n",
       "  <tbody>\n",
       "    <tr>\n",
       "      <th>fix account work</th>\n",
       "      <td>1.000000</td>\n",
       "    </tr>\n",
       "    <tr>\n",
       "      <th>stream yung kyra</th>\n",
       "      <td>1.000000</td>\n",
       "    </tr>\n",
       "    <tr>\n",
       "      <th>still favorite dsp</th>\n",
       "      <td>1.000000</td>\n",
       "    </tr>\n",
       "    <tr>\n",
       "      <th>best ever mean</th>\n",
       "      <td>1.000000</td>\n",
       "    </tr>\n",
       "    <tr>\n",
       "      <th>best iphone period</th>\n",
       "      <td>1.000000</td>\n",
       "    </tr>\n",
       "    <tr>\n",
       "      <th>best listen ads</th>\n",
       "      <td>1.000000</td>\n",
       "    </tr>\n",
       "    <tr>\n",
       "      <th>forever lil tjay</th>\n",
       "      <td>1.000000</td>\n",
       "    </tr>\n",
       "    <tr>\n",
       "      <th>audio dolby atmos</th>\n",
       "      <td>0.921791</td>\n",
       "    </tr>\n",
       "    <tr>\n",
       "      <th>spatial audio dolby</th>\n",
       "      <td>0.921791</td>\n",
       "    </tr>\n",
       "    <tr>\n",
       "      <th>best streaming service</th>\n",
       "      <td>0.800598</td>\n",
       "    </tr>\n",
       "    <tr>\n",
       "      <th>homescreen show lyrics</th>\n",
       "      <td>0.707107</td>\n",
       "    </tr>\n",
       "    <tr>\n",
       "      <th>widget homescreen show</th>\n",
       "      <td>0.707107</td>\n",
       "    </tr>\n",
       "    <tr>\n",
       "      <th>follow radio shows</th>\n",
       "      <td>0.683791</td>\n",
       "    </tr>\n",
       "    <tr>\n",
       "      <th>since day one</th>\n",
       "      <td>0.577350</td>\n",
       "    </tr>\n",
       "    <tr>\n",
       "      <th>service wish recommendation</th>\n",
       "      <td>0.577350</td>\n",
       "    </tr>\n",
       "  </tbody>\n",
       "</table>\n",
       "</div>"
      ],
      "text/plain": [
       "                                score\n",
       "fix account work             1.000000\n",
       "stream yung kyra             1.000000\n",
       "still favorite dsp           1.000000\n",
       "best ever mean               1.000000\n",
       "best iphone period           1.000000\n",
       "best listen ads              1.000000\n",
       "forever lil tjay             1.000000\n",
       "audio dolby atmos            0.921791\n",
       "spatial audio dolby          0.921791\n",
       "best streaming service       0.800598\n",
       "homescreen show lyrics       0.707107\n",
       "widget homescreen show       0.707107\n",
       "follow radio shows           0.683791\n",
       "since day one                0.577350\n",
       "service wish recommendation  0.577350"
      ]
     },
     "execution_count": 28,
     "metadata": {},
     "output_type": "execute_result"
    }
   ],
   "source": [
    "stemmer(ios_apple_positive, 'review')\n",
    "vectorizer((3,3),ios_apple_positive, 'review').head(15)"
   ]
  },
  {
   "cell_type": "code",
   "execution_count": 29,
   "id": "ad19bf74",
   "metadata": {
    "ExecuteTime": {
     "end_time": "2021-12-14T19:21:18.120061Z",
     "start_time": "2021-12-14T19:21:13.456038Z"
    }
   },
   "outputs": [
    {
     "name": "stderr",
     "output_type": "stream",
     "text": [
      "C:\\Users\\kardi\\anaconda3\\lib\\site-packages\\sklearn\\utils\\deprecation.py:87: FutureWarning: Function get_feature_names is deprecated; get_feature_names is deprecated in 1.0 and will be removed in 1.2. Please use get_feature_names_out instead.\n",
      "  warnings.warn(msg, category=FutureWarning)\n"
     ]
    },
    {
     "data": {
      "text/html": [
       "<div>\n",
       "<style scoped>\n",
       "    .dataframe tbody tr th:only-of-type {\n",
       "        vertical-align: middle;\n",
       "    }\n",
       "\n",
       "    .dataframe tbody tr th {\n",
       "        vertical-align: top;\n",
       "    }\n",
       "\n",
       "    .dataframe thead th {\n",
       "        text-align: right;\n",
       "    }\n",
       "</style>\n",
       "<table border=\"1\" class=\"dataframe\">\n",
       "  <thead>\n",
       "    <tr style=\"text-align: right;\">\n",
       "      <th></th>\n",
       "      <th>score</th>\n",
       "    </tr>\n",
       "  </thead>\n",
       "  <tbody>\n",
       "    <tr>\n",
       "      <th>love love love</th>\n",
       "      <td>11.392583</td>\n",
       "    </tr>\n",
       "    <tr>\n",
       "      <th>best ever used</th>\n",
       "      <td>6.408930</td>\n",
       "    </tr>\n",
       "    <tr>\n",
       "      <th>love new update</th>\n",
       "      <td>5.741727</td>\n",
       "    </tr>\n",
       "    <tr>\n",
       "      <th>add sleep timer</th>\n",
       "      <td>5.719239</td>\n",
       "    </tr>\n",
       "    <tr>\n",
       "      <th>best streaming service</th>\n",
       "      <td>4.410998</td>\n",
       "    </tr>\n",
       "    <tr>\n",
       "      <th>one best apps</th>\n",
       "      <td>3.687554</td>\n",
       "    </tr>\n",
       "    <tr>\n",
       "      <th>works really well</th>\n",
       "      <td>3.545535</td>\n",
       "    </tr>\n",
       "    <tr>\n",
       "      <th>awesome sound quality</th>\n",
       "      <td>3.262561</td>\n",
       "    </tr>\n",
       "    <tr>\n",
       "      <th>love able listen</th>\n",
       "      <td>3.081286</td>\n",
       "    </tr>\n",
       "    <tr>\n",
       "      <th>share instagram story</th>\n",
       "      <td>2.848665</td>\n",
       "    </tr>\n",
       "    <tr>\n",
       "      <th>best streaming ever</th>\n",
       "      <td>2.699856</td>\n",
       "    </tr>\n",
       "    <tr>\n",
       "      <th>lossless dolby atmos</th>\n",
       "      <td>2.669119</td>\n",
       "    </tr>\n",
       "    <tr>\n",
       "      <th>share instagram stories</th>\n",
       "      <td>2.449773</td>\n",
       "    </tr>\n",
       "    <tr>\n",
       "      <th>best streaming platform</th>\n",
       "      <td>2.417344</td>\n",
       "    </tr>\n",
       "    <tr>\n",
       "      <th>best thing ever</th>\n",
       "      <td>2.382690</td>\n",
       "    </tr>\n",
       "  </tbody>\n",
       "</table>\n",
       "</div>"
      ],
      "text/plain": [
       "                             score\n",
       "love love love           11.392583\n",
       "best ever used            6.408930\n",
       "love new update           5.741727\n",
       "add sleep timer           5.719239\n",
       "best streaming service    4.410998\n",
       "one best apps             3.687554\n",
       "works really well         3.545535\n",
       "awesome sound quality     3.262561\n",
       "love able listen          3.081286\n",
       "share instagram story     2.848665\n",
       "best streaming ever       2.699856\n",
       "lossless dolby atmos      2.669119\n",
       "share instagram stories   2.449773\n",
       "best streaming platform   2.417344\n",
       "best thing ever           2.382690"
      ]
     },
     "execution_count": 29,
     "metadata": {},
     "output_type": "execute_result"
    }
   ],
   "source": [
    "stemmer(android_apple_positive, 'review')\n",
    "vectorizer((3,3),android_apple_positive, 'review').head(15)"
   ]
  },
  {
   "cell_type": "markdown",
   "id": "e05feb2c",
   "metadata": {},
   "source": [
    "Some recurring positive feedback about Apple Music's platform is:\n",
    "- No Ads\n",
    "- Spatial audio (dolby atmos)/sound quality\n",
    "- iPhone homescreen widget capabilities"
   ]
  },
  {
   "cell_type": "markdown",
   "id": "09c1a575",
   "metadata": {},
   "source": [
    "## Amazon Music Analysis"
   ]
  },
  {
   "cell_type": "markdown",
   "id": "371d7d53",
   "metadata": {},
   "source": [
    "### Negative Reviews "
   ]
  },
  {
   "cell_type": "code",
   "execution_count": 30,
   "id": "a3584697",
   "metadata": {
    "ExecuteTime": {
     "end_time": "2021-12-14T19:21:18.392311Z",
     "start_time": "2021-12-14T19:21:18.120061Z"
    }
   },
   "outputs": [
    {
     "name": "stderr",
     "output_type": "stream",
     "text": [
      "C:\\Users\\kardi\\anaconda3\\lib\\site-packages\\sklearn\\utils\\deprecation.py:87: FutureWarning: Function get_feature_names is deprecated; get_feature_names is deprecated in 1.0 and will be removed in 1.2. Please use get_feature_names_out instead.\n",
      "  warnings.warn(msg, category=FutureWarning)\n"
     ]
    },
    {
     "data": {
      "text/html": [
       "<div>\n",
       "<style scoped>\n",
       "    .dataframe tbody tr th:only-of-type {\n",
       "        vertical-align: middle;\n",
       "    }\n",
       "\n",
       "    .dataframe tbody tr th {\n",
       "        vertical-align: top;\n",
       "    }\n",
       "\n",
       "    .dataframe thead th {\n",
       "        text-align: right;\n",
       "    }\n",
       "</style>\n",
       "<table border=\"1\" class=\"dataframe\">\n",
       "  <thead>\n",
       "    <tr style=\"text-align: right;\">\n",
       "      <th></th>\n",
       "      <th>score</th>\n",
       "    </tr>\n",
       "  </thead>\n",
       "  <tbody>\n",
       "    <tr>\n",
       "      <th>new update horrible</th>\n",
       "      <td>2.670533</td>\n",
       "    </tr>\n",
       "    <tr>\n",
       "      <th>worse every update</th>\n",
       "      <td>2.121320</td>\n",
       "    </tr>\n",
       "    <tr>\n",
       "      <th>gets worse every</th>\n",
       "      <td>2.121320</td>\n",
       "    </tr>\n",
       "    <tr>\n",
       "      <th>shuffle work well</th>\n",
       "      <td>2.000000</td>\n",
       "    </tr>\n",
       "    <tr>\n",
       "      <th>could much better</th>\n",
       "      <td>2.000000</td>\n",
       "    </tr>\n",
       "    <tr>\n",
       "      <th>crashes every time</th>\n",
       "      <td>1.033538</td>\n",
       "    </tr>\n",
       "    <tr>\n",
       "      <th>poor user interface</th>\n",
       "      <td>1.033538</td>\n",
       "    </tr>\n",
       "    <tr>\n",
       "      <th>iphone 12 pro</th>\n",
       "      <td>1.002509</td>\n",
       "    </tr>\n",
       "    <tr>\n",
       "      <th>12 pro max</th>\n",
       "      <td>1.002509</td>\n",
       "    </tr>\n",
       "    <tr>\n",
       "      <th>new format terrible</th>\n",
       "      <td>1.000000</td>\n",
       "    </tr>\n",
       "    <tr>\n",
       "      <th>new downloaded set</th>\n",
       "      <td>1.000000</td>\n",
       "    </tr>\n",
       "    <tr>\n",
       "      <th>user interface bloated</th>\n",
       "      <td>1.000000</td>\n",
       "    </tr>\n",
       "    <tr>\n",
       "      <th>needs stable database</th>\n",
       "      <td>1.000000</td>\n",
       "    </tr>\n",
       "    <tr>\n",
       "      <th>never works offline</th>\n",
       "      <td>1.000000</td>\n",
       "    </tr>\n",
       "    <tr>\n",
       "      <th>downloads wrong garbled</th>\n",
       "      <td>1.000000</td>\n",
       "    </tr>\n",
       "  </tbody>\n",
       "</table>\n",
       "</div>"
      ],
      "text/plain": [
       "                            score\n",
       "new update horrible      2.670533\n",
       "worse every update       2.121320\n",
       "gets worse every         2.121320\n",
       "shuffle work well        2.000000\n",
       "could much better        2.000000\n",
       "crashes every time       1.033538\n",
       "poor user interface      1.033538\n",
       "iphone 12 pro            1.002509\n",
       "12 pro max               1.002509\n",
       "new format terrible      1.000000\n",
       "new downloaded set       1.000000\n",
       "user interface bloated   1.000000\n",
       "needs stable database    1.000000\n",
       "never works offline      1.000000\n",
       "downloads wrong garbled  1.000000"
      ]
     },
     "execution_count": 30,
     "metadata": {},
     "output_type": "execute_result"
    }
   ],
   "source": [
    "stemmer(ios_amazon_negative, 'title')\n",
    "vectorizer((3,3),ios_amazon_negative, 'title').head(15)"
   ]
  },
  {
   "cell_type": "code",
   "execution_count": 31,
   "id": "ed470b18",
   "metadata": {
    "ExecuteTime": {
     "end_time": "2021-12-14T19:21:20.600028Z",
     "start_time": "2021-12-14T19:21:18.392311Z"
    }
   },
   "outputs": [
    {
     "name": "stderr",
     "output_type": "stream",
     "text": [
      "C:\\Users\\kardi\\anaconda3\\lib\\site-packages\\sklearn\\utils\\deprecation.py:87: FutureWarning: Function get_feature_names is deprecated; get_feature_names is deprecated in 1.0 and will be removed in 1.2. Please use get_feature_names_out instead.\n",
      "  warnings.warn(msg, category=FutureWarning)\n"
     ]
    },
    {
     "data": {
      "text/html": [
       "<div>\n",
       "<style scoped>\n",
       "    .dataframe tbody tr th:only-of-type {\n",
       "        vertical-align: middle;\n",
       "    }\n",
       "\n",
       "    .dataframe tbody tr th {\n",
       "        vertical-align: top;\n",
       "    }\n",
       "\n",
       "    .dataframe thead th {\n",
       "        text-align: right;\n",
       "    }\n",
       "</style>\n",
       "<table border=\"1\" class=\"dataframe\">\n",
       "  <thead>\n",
       "    <tr style=\"text-align: right;\">\n",
       "      <th></th>\n",
       "      <th>score</th>\n",
       "    </tr>\n",
       "  </thead>\n",
       "  <tbody>\n",
       "    <tr>\n",
       "      <th>every single time</th>\n",
       "      <td>1.404192</td>\n",
       "    </tr>\n",
       "    <tr>\n",
       "      <th>since last update</th>\n",
       "      <td>1.297942</td>\n",
       "    </tr>\n",
       "    <tr>\n",
       "      <th>every time try</th>\n",
       "      <td>1.253835</td>\n",
       "    </tr>\n",
       "    <tr>\n",
       "      <th>already paying prime</th>\n",
       "      <td>1.103422</td>\n",
       "    </tr>\n",
       "    <tr>\n",
       "      <th>already pay prime</th>\n",
       "      <td>1.046805</td>\n",
       "    </tr>\n",
       "    <tr>\n",
       "      <th>every time open</th>\n",
       "      <td>1.011318</td>\n",
       "    </tr>\n",
       "    <tr>\n",
       "      <th>switch offline mode</th>\n",
       "      <td>0.950956</td>\n",
       "    </tr>\n",
       "    <tr>\n",
       "      <th>almost every time</th>\n",
       "      <td>0.879442</td>\n",
       "    </tr>\n",
       "    <tr>\n",
       "      <th>matter many times</th>\n",
       "      <td>0.856165</td>\n",
       "    </tr>\n",
       "    <tr>\n",
       "      <th>content longer available</th>\n",
       "      <td>0.844514</td>\n",
       "    </tr>\n",
       "    <tr>\n",
       "      <th>since latest update</th>\n",
       "      <td>0.835275</td>\n",
       "    </tr>\n",
       "    <tr>\n",
       "      <th>ask still listening</th>\n",
       "      <td>0.738398</td>\n",
       "    </tr>\n",
       "    <tr>\n",
       "      <th>pay prime want</th>\n",
       "      <td>0.703343</td>\n",
       "    </tr>\n",
       "    <tr>\n",
       "      <th>happens every time</th>\n",
       "      <td>0.685330</td>\n",
       "    </tr>\n",
       "    <tr>\n",
       "      <th>every time car</th>\n",
       "      <td>0.682220</td>\n",
       "    </tr>\n",
       "  </tbody>\n",
       "</table>\n",
       "</div>"
      ],
      "text/plain": [
       "                             score\n",
       "every single time         1.404192\n",
       "since last update         1.297942\n",
       "every time try            1.253835\n",
       "already paying prime      1.103422\n",
       "already pay prime         1.046805\n",
       "every time open           1.011318\n",
       "switch offline mode       0.950956\n",
       "almost every time         0.879442\n",
       "matter many times         0.856165\n",
       "content longer available  0.844514\n",
       "since latest update       0.835275\n",
       "ask still listening       0.738398\n",
       "pay prime want            0.703343\n",
       "happens every time        0.685330\n",
       "every time car            0.682220"
      ]
     },
     "execution_count": 31,
     "metadata": {},
     "output_type": "execute_result"
    }
   ],
   "source": [
    "stemmer(ios_amazon_negative, 'review')\n",
    "vectorizer((3,3),ios_amazon_negative, 'review').head(15)"
   ]
  },
  {
   "cell_type": "code",
   "execution_count": 32,
   "id": "fd1f4401",
   "metadata": {
    "ExecuteTime": {
     "end_time": "2021-12-14T19:21:24.904026Z",
     "start_time": "2021-12-14T19:21:20.600028Z"
    }
   },
   "outputs": [
    {
     "name": "stderr",
     "output_type": "stream",
     "text": [
      "C:\\Users\\kardi\\anaconda3\\lib\\site-packages\\sklearn\\utils\\deprecation.py:87: FutureWarning: Function get_feature_names is deprecated; get_feature_names is deprecated in 1.0 and will be removed in 1.2. Please use get_feature_names_out instead.\n",
      "  warnings.warn(msg, category=FutureWarning)\n"
     ]
    },
    {
     "data": {
      "text/html": [
       "<div>\n",
       "<style scoped>\n",
       "    .dataframe tbody tr th:only-of-type {\n",
       "        vertical-align: middle;\n",
       "    }\n",
       "\n",
       "    .dataframe tbody tr th {\n",
       "        vertical-align: top;\n",
       "    }\n",
       "\n",
       "    .dataframe thead th {\n",
       "        text-align: right;\n",
       "    }\n",
       "</style>\n",
       "<table border=\"1\" class=\"dataframe\">\n",
       "  <thead>\n",
       "    <tr style=\"text-align: right;\">\n",
       "      <th></th>\n",
       "      <th>score</th>\n",
       "    </tr>\n",
       "  </thead>\n",
       "  <tbody>\n",
       "    <tr>\n",
       "      <th>since last update</th>\n",
       "      <td>8.057387</td>\n",
       "    </tr>\n",
       "    <tr>\n",
       "      <th>every time open</th>\n",
       "      <td>3.269406</td>\n",
       "    </tr>\n",
       "    <tr>\n",
       "      <th>every time try</th>\n",
       "      <td>2.926727</td>\n",
       "    </tr>\n",
       "    <tr>\n",
       "      <th>stops playing time</th>\n",
       "      <td>2.671066</td>\n",
       "    </tr>\n",
       "    <tr>\n",
       "      <th>every single time</th>\n",
       "      <td>2.560456</td>\n",
       "    </tr>\n",
       "    <tr>\n",
       "      <th>since new update</th>\n",
       "      <td>2.337146</td>\n",
       "    </tr>\n",
       "    <tr>\n",
       "      <th>takes forever load</th>\n",
       "      <td>2.216512</td>\n",
       "    </tr>\n",
       "    <tr>\n",
       "      <th>crashes every time</th>\n",
       "      <td>2.179308</td>\n",
       "    </tr>\n",
       "    <tr>\n",
       "      <th>doesnt work anymore</th>\n",
       "      <td>2.156184</td>\n",
       "    </tr>\n",
       "    <tr>\n",
       "      <th>since recent update</th>\n",
       "      <td>2.087647</td>\n",
       "    </tr>\n",
       "    <tr>\n",
       "      <th>play offline downloaded</th>\n",
       "      <td>2.009023</td>\n",
       "    </tr>\n",
       "    <tr>\n",
       "      <th>ever since update</th>\n",
       "      <td>2.005228</td>\n",
       "    </tr>\n",
       "    <tr>\n",
       "      <th>everytime try play</th>\n",
       "      <td>1.992334</td>\n",
       "    </tr>\n",
       "    <tr>\n",
       "      <th>new update sucks</th>\n",
       "      <td>1.967862</td>\n",
       "    </tr>\n",
       "    <tr>\n",
       "      <th>worst ever used</th>\n",
       "      <td>1.896111</td>\n",
       "    </tr>\n",
       "  </tbody>\n",
       "</table>\n",
       "</div>"
      ],
      "text/plain": [
       "                            score\n",
       "since last update        8.057387\n",
       "every time open          3.269406\n",
       "every time try           2.926727\n",
       "stops playing time       2.671066\n",
       "every single time        2.560456\n",
       "since new update         2.337146\n",
       "takes forever load       2.216512\n",
       "crashes every time       2.179308\n",
       "doesnt work anymore      2.156184\n",
       "since recent update      2.087647\n",
       "play offline downloaded  2.009023\n",
       "ever since update        2.005228\n",
       "everytime try play       1.992334\n",
       "new update sucks         1.967862\n",
       "worst ever used          1.896111"
      ]
     },
     "execution_count": 32,
     "metadata": {},
     "output_type": "execute_result"
    }
   ],
   "source": [
    "stemmer(android_amazon_negative, 'review')\n",
    "vectorizer((3,3),android_amazon_negative, 'review').head(15)"
   ]
  },
  {
   "cell_type": "markdown",
   "id": "d6f5c0d4",
   "metadata": {},
   "source": [
    "Some recurring negative feedback about Amazon Music's platform is:\n",
    "- Poor updates\n",
    "- Bad user interface\n",
    "- Platform can be slow, gitchy, or crash\n",
    "- Offline mode doesn't work as expected"
   ]
  },
  {
   "cell_type": "markdown",
   "id": "da51872d",
   "metadata": {},
   "source": [
    "### Positive Reviews"
   ]
  },
  {
   "cell_type": "code",
   "execution_count": 33,
   "id": "be695506",
   "metadata": {
    "ExecuteTime": {
     "end_time": "2021-12-14T19:21:26.688023Z",
     "start_time": "2021-12-14T19:21:24.904026Z"
    }
   },
   "outputs": [
    {
     "name": "stderr",
     "output_type": "stream",
     "text": [
      "C:\\Users\\kardi\\anaconda3\\lib\\site-packages\\sklearn\\utils\\deprecation.py:87: FutureWarning: Function get_feature_names is deprecated; get_feature_names is deprecated in 1.0 and will be removed in 1.2. Please use get_feature_names_out instead.\n",
      "  warnings.warn(msg, category=FutureWarning)\n"
     ]
    },
    {
     "data": {
      "text/html": [
       "<div>\n",
       "<style scoped>\n",
       "    .dataframe tbody tr th:only-of-type {\n",
       "        vertical-align: middle;\n",
       "    }\n",
       "\n",
       "    .dataframe tbody tr th {\n",
       "        vertical-align: top;\n",
       "    }\n",
       "\n",
       "    .dataframe thead th {\n",
       "        text-align: right;\n",
       "    }\n",
       "</style>\n",
       "<table border=\"1\" class=\"dataframe\">\n",
       "  <thead>\n",
       "    <tr style=\"text-align: right;\">\n",
       "      <th></th>\n",
       "      <th>score</th>\n",
       "    </tr>\n",
       "  </thead>\n",
       "  <tbody>\n",
       "    <tr>\n",
       "      <th>love love love</th>\n",
       "      <td>15.477768</td>\n",
       "    </tr>\n",
       "    <tr>\n",
       "      <th>best streaming service</th>\n",
       "      <td>7.284349</td>\n",
       "    </tr>\n",
       "    <tr>\n",
       "      <th>worth every penny</th>\n",
       "      <td>6.440742</td>\n",
       "    </tr>\n",
       "    <tr>\n",
       "      <th>much better itunes</th>\n",
       "      <td>6.295689</td>\n",
       "    </tr>\n",
       "    <tr>\n",
       "      <th>much better pandora</th>\n",
       "      <td>5.654145</td>\n",
       "    </tr>\n",
       "    <tr>\n",
       "      <th>best thing ever</th>\n",
       "      <td>4.322506</td>\n",
       "    </tr>\n",
       "    <tr>\n",
       "      <th>one favorite apps</th>\n",
       "      <td>4.000000</td>\n",
       "    </tr>\n",
       "    <tr>\n",
       "      <th>listen every day</th>\n",
       "      <td>4.000000</td>\n",
       "    </tr>\n",
       "    <tr>\n",
       "      <th>except one thing</th>\n",
       "      <td>3.730607</td>\n",
       "    </tr>\n",
       "    <tr>\n",
       "      <th>best service ever</th>\n",
       "      <td>3.000000</td>\n",
       "    </tr>\n",
       "    <tr>\n",
       "      <th>could user friendly</th>\n",
       "      <td>3.000000</td>\n",
       "    </tr>\n",
       "    <tr>\n",
       "      <th>way better pandora</th>\n",
       "      <td>2.695348</td>\n",
       "    </tr>\n",
       "    <tr>\n",
       "      <th>free prime membership</th>\n",
       "      <td>2.679130</td>\n",
       "    </tr>\n",
       "    <tr>\n",
       "      <th>best ever used</th>\n",
       "      <td>2.679130</td>\n",
       "    </tr>\n",
       "    <tr>\n",
       "      <th>needs one thing</th>\n",
       "      <td>2.547475</td>\n",
       "    </tr>\n",
       "  </tbody>\n",
       "</table>\n",
       "</div>"
      ],
      "text/plain": [
       "                            score\n",
       "love love love          15.477768\n",
       "best streaming service   7.284349\n",
       "worth every penny        6.440742\n",
       "much better itunes       6.295689\n",
       "much better pandora      5.654145\n",
       "best thing ever          4.322506\n",
       "one favorite apps        4.000000\n",
       "listen every day         4.000000\n",
       "except one thing         3.730607\n",
       "best service ever        3.000000\n",
       "could user friendly      3.000000\n",
       "way better pandora       2.695348\n",
       "free prime membership    2.679130\n",
       "best ever used           2.679130\n",
       "needs one thing          2.547475"
      ]
     },
     "execution_count": 33,
     "metadata": {},
     "output_type": "execute_result"
    }
   ],
   "source": [
    "stemmer(ios_amazon_positive, 'title')\n",
    "vectorizer((3,3),ios_amazon_positive, 'title').head(15)"
   ]
  },
  {
   "cell_type": "code",
   "execution_count": 34,
   "id": "3b9df8ea",
   "metadata": {
    "ExecuteTime": {
     "end_time": "2021-12-14T19:21:41.992030Z",
     "start_time": "2021-12-14T19:21:26.688023Z"
    }
   },
   "outputs": [
    {
     "name": "stderr",
     "output_type": "stream",
     "text": [
      "C:\\Users\\kardi\\anaconda3\\lib\\site-packages\\sklearn\\utils\\deprecation.py:87: FutureWarning: Function get_feature_names is deprecated; get_feature_names is deprecated in 1.0 and will be removed in 1.2. Please use get_feature_names_out instead.\n",
      "  warnings.warn(msg, category=FutureWarning)\n"
     ]
    },
    {
     "data": {
      "text/html": [
       "<div>\n",
       "<style scoped>\n",
       "    .dataframe tbody tr th:only-of-type {\n",
       "        vertical-align: middle;\n",
       "    }\n",
       "\n",
       "    .dataframe tbody tr th {\n",
       "        vertical-align: top;\n",
       "    }\n",
       "\n",
       "    .dataframe thead th {\n",
       "        text-align: right;\n",
       "    }\n",
       "</style>\n",
       "<table border=\"1\" class=\"dataframe\">\n",
       "  <thead>\n",
       "    <tr style=\"text-align: right;\">\n",
       "      <th></th>\n",
       "      <th>score</th>\n",
       "    </tr>\n",
       "  </thead>\n",
       "  <tbody>\n",
       "    <tr>\n",
       "      <th>included prime membership</th>\n",
       "      <td>8.226680</td>\n",
       "    </tr>\n",
       "    <tr>\n",
       "      <th>download listen offline</th>\n",
       "      <td>5.268644</td>\n",
       "    </tr>\n",
       "    <tr>\n",
       "      <th>already paying prime</th>\n",
       "      <td>5.032458</td>\n",
       "    </tr>\n",
       "    <tr>\n",
       "      <th>give five stars</th>\n",
       "      <td>4.908589</td>\n",
       "    </tr>\n",
       "    <tr>\n",
       "      <th>ask alexa play</th>\n",
       "      <td>4.353552</td>\n",
       "    </tr>\n",
       "    <tr>\n",
       "      <th>love able listen</th>\n",
       "      <td>4.346606</td>\n",
       "    </tr>\n",
       "    <tr>\n",
       "      <th>already pay prime</th>\n",
       "      <td>4.241386</td>\n",
       "    </tr>\n",
       "    <tr>\n",
       "      <th>without using data</th>\n",
       "      <td>4.161625</td>\n",
       "    </tr>\n",
       "    <tr>\n",
       "      <th>one device time</th>\n",
       "      <td>3.950251</td>\n",
       "    </tr>\n",
       "    <tr>\n",
       "      <th>make playlists listen</th>\n",
       "      <td>3.231802</td>\n",
       "    </tr>\n",
       "    <tr>\n",
       "      <th>love able download</th>\n",
       "      <td>3.159107</td>\n",
       "    </tr>\n",
       "    <tr>\n",
       "      <th>download play offline</th>\n",
       "      <td>3.112286</td>\n",
       "    </tr>\n",
       "    <tr>\n",
       "      <th>easy make playlists</th>\n",
       "      <td>3.103296</td>\n",
       "    </tr>\n",
       "    <tr>\n",
       "      <th>listen whatever want</th>\n",
       "      <td>3.075203</td>\n",
       "    </tr>\n",
       "    <tr>\n",
       "      <th>almost every day</th>\n",
       "      <td>3.029343</td>\n",
       "    </tr>\n",
       "  </tbody>\n",
       "</table>\n",
       "</div>"
      ],
      "text/plain": [
       "                              score\n",
       "included prime membership  8.226680\n",
       "download listen offline    5.268644\n",
       "already paying prime       5.032458\n",
       "give five stars            4.908589\n",
       "ask alexa play             4.353552\n",
       "love able listen           4.346606\n",
       "already pay prime          4.241386\n",
       "without using data         4.161625\n",
       "one device time            3.950251\n",
       "make playlists listen      3.231802\n",
       "love able download         3.159107\n",
       "download play offline      3.112286\n",
       "easy make playlists        3.103296\n",
       "listen whatever want       3.075203\n",
       "almost every day           3.029343"
      ]
     },
     "execution_count": 34,
     "metadata": {},
     "output_type": "execute_result"
    }
   ],
   "source": [
    "stemmer(ios_amazon_positive, 'review')\n",
    "vectorizer((3,3),ios_amazon_positive, 'review').head(15)"
   ]
  },
  {
   "cell_type": "code",
   "execution_count": 35,
   "id": "21e1a2a4",
   "metadata": {
    "ExecuteTime": {
     "end_time": "2021-12-14T19:21:44.616027Z",
     "start_time": "2021-12-14T19:21:41.992030Z"
    }
   },
   "outputs": [
    {
     "name": "stderr",
     "output_type": "stream",
     "text": [
      "C:\\Users\\kardi\\anaconda3\\lib\\site-packages\\sklearn\\utils\\deprecation.py:87: FutureWarning: Function get_feature_names is deprecated; get_feature_names is deprecated in 1.0 and will be removed in 1.2. Please use get_feature_names_out instead.\n",
      "  warnings.warn(msg, category=FutureWarning)\n"
     ]
    },
    {
     "data": {
      "text/html": [
       "<div>\n",
       "<style scoped>\n",
       "    .dataframe tbody tr th:only-of-type {\n",
       "        vertical-align: middle;\n",
       "    }\n",
       "\n",
       "    .dataframe tbody tr th {\n",
       "        vertical-align: top;\n",
       "    }\n",
       "\n",
       "    .dataframe thead th {\n",
       "        text-align: right;\n",
       "    }\n",
       "</style>\n",
       "<table border=\"1\" class=\"dataframe\">\n",
       "  <thead>\n",
       "    <tr style=\"text-align: right;\">\n",
       "      <th></th>\n",
       "      <th>score</th>\n",
       "    </tr>\n",
       "  </thead>\n",
       "  <tbody>\n",
       "    <tr>\n",
       "      <th>love love love</th>\n",
       "      <td>6.320855</td>\n",
       "    </tr>\n",
       "    <tr>\n",
       "      <th>hd ultra hd</th>\n",
       "      <td>3.561663</td>\n",
       "    </tr>\n",
       "    <tr>\n",
       "      <th>easy find looking</th>\n",
       "      <td>2.678303</td>\n",
       "    </tr>\n",
       "    <tr>\n",
       "      <th>excellent sound quality</th>\n",
       "      <td>2.673547</td>\n",
       "    </tr>\n",
       "    <tr>\n",
       "      <th>superb sound quality</th>\n",
       "      <td>2.546609</td>\n",
       "    </tr>\n",
       "    <tr>\n",
       "      <th>way better youtube</th>\n",
       "      <td>2.546609</td>\n",
       "    </tr>\n",
       "    <tr>\n",
       "      <th>high quality sound</th>\n",
       "      <td>2.356607</td>\n",
       "    </tr>\n",
       "    <tr>\n",
       "      <th>best ever used</th>\n",
       "      <td>2.164332</td>\n",
       "    </tr>\n",
       "    <tr>\n",
       "      <th>love every day</th>\n",
       "      <td>2.154104</td>\n",
       "    </tr>\n",
       "    <tr>\n",
       "      <th>easy create playlists</th>\n",
       "      <td>2.030959</td>\n",
       "    </tr>\n",
       "    <tr>\n",
       "      <th>nice sound quality</th>\n",
       "      <td>2.000000</td>\n",
       "    </tr>\n",
       "    <tr>\n",
       "      <th>excellent quality easy</th>\n",
       "      <td>2.000000</td>\n",
       "    </tr>\n",
       "    <tr>\n",
       "      <th>love works alexa</th>\n",
       "      <td>2.000000</td>\n",
       "    </tr>\n",
       "    <tr>\n",
       "      <th>best streaming ever</th>\n",
       "      <td>2.000000</td>\n",
       "    </tr>\n",
       "    <tr>\n",
       "      <th>better apps used</th>\n",
       "      <td>2.000000</td>\n",
       "    </tr>\n",
       "  </tbody>\n",
       "</table>\n",
       "</div>"
      ],
      "text/plain": [
       "                            score\n",
       "love love love           6.320855\n",
       "hd ultra hd              3.561663\n",
       "easy find looking        2.678303\n",
       "excellent sound quality  2.673547\n",
       "superb sound quality     2.546609\n",
       "way better youtube       2.546609\n",
       "high quality sound       2.356607\n",
       "best ever used           2.164332\n",
       "love every day           2.154104\n",
       "easy create playlists    2.030959\n",
       "nice sound quality       2.000000\n",
       "excellent quality easy   2.000000\n",
       "love works alexa         2.000000\n",
       "best streaming ever      2.000000\n",
       "better apps used         2.000000"
      ]
     },
     "execution_count": 35,
     "metadata": {},
     "output_type": "execute_result"
    }
   ],
   "source": [
    "stemmer(android_amazon_positive, 'review')\n",
    "vectorizer((3,3),android_amazon_positive, 'review').head(15)"
   ]
  },
  {
   "cell_type": "markdown",
   "id": "3d5fc7a8",
   "metadata": {},
   "source": [
    "Some recurring positive feedback about Amazon Music's platform is:\n",
    "- included in prime membership\n",
    "- office capability is nice to have\n",
    "- good sound quality\n",
    "- works with alexa"
   ]
  },
  {
   "cell_type": "markdown",
   "id": "d6c43405",
   "metadata": {},
   "source": [
    "## Spotify Analysis"
   ]
  },
  {
   "cell_type": "markdown",
   "id": "2d84220d",
   "metadata": {},
   "source": [
    "### Negative Reviews"
   ]
  },
  {
   "cell_type": "code",
   "execution_count": 36,
   "id": "81e78b3e",
   "metadata": {
    "ExecuteTime": {
     "end_time": "2021-12-14T19:21:45.104074Z",
     "start_time": "2021-12-14T19:21:44.616027Z"
    }
   },
   "outputs": [
    {
     "name": "stderr",
     "output_type": "stream",
     "text": [
      "C:\\Users\\kardi\\anaconda3\\lib\\site-packages\\sklearn\\utils\\deprecation.py:87: FutureWarning: Function get_feature_names is deprecated; get_feature_names is deprecated in 1.0 and will be removed in 1.2. Please use get_feature_names_out instead.\n",
      "  warnings.warn(msg, category=FutureWarning)\n"
     ]
    },
    {
     "data": {
      "text/html": [
       "<div>\n",
       "<style scoped>\n",
       "    .dataframe tbody tr th:only-of-type {\n",
       "        vertical-align: middle;\n",
       "    }\n",
       "\n",
       "    .dataframe tbody tr th {\n",
       "        vertical-align: top;\n",
       "    }\n",
       "\n",
       "    .dataframe thead th {\n",
       "        text-align: right;\n",
       "    }\n",
       "</style>\n",
       "<table border=\"1\" class=\"dataframe\">\n",
       "  <thead>\n",
       "    <tr style=\"text-align: right;\">\n",
       "      <th></th>\n",
       "      <th>score</th>\n",
       "    </tr>\n",
       "  </thead>\n",
       "  <tbody>\n",
       "    <tr>\n",
       "      <th>new update ruined</th>\n",
       "      <td>6.502200</td>\n",
       "    </tr>\n",
       "    <tr>\n",
       "      <th>new update trash</th>\n",
       "      <td>5.000000</td>\n",
       "    </tr>\n",
       "    <tr>\n",
       "      <th>keeps getting worse</th>\n",
       "      <td>4.000000</td>\n",
       "    </tr>\n",
       "    <tr>\n",
       "      <th>new update awful</th>\n",
       "      <td>4.000000</td>\n",
       "    </tr>\n",
       "    <tr>\n",
       "      <th>latest update terrible</th>\n",
       "      <td>3.000000</td>\n",
       "    </tr>\n",
       "    <tr>\n",
       "      <th>needs lot work</th>\n",
       "      <td>2.673303</td>\n",
       "    </tr>\n",
       "    <tr>\n",
       "      <th>way many ads</th>\n",
       "      <td>2.673303</td>\n",
       "    </tr>\n",
       "    <tr>\n",
       "      <th>minutes ad free</th>\n",
       "      <td>2.058437</td>\n",
       "    </tr>\n",
       "    <tr>\n",
       "      <th>hate new update</th>\n",
       "      <td>2.000000</td>\n",
       "    </tr>\n",
       "    <tr>\n",
       "      <th>absolutely hate update</th>\n",
       "      <td>2.000000</td>\n",
       "    </tr>\n",
       "    <tr>\n",
       "      <th>one big problem</th>\n",
       "      <td>2.000000</td>\n",
       "    </tr>\n",
       "    <tr>\n",
       "      <th>new artist layout</th>\n",
       "      <td>2.000000</td>\n",
       "    </tr>\n",
       "    <tr>\n",
       "      <th>new update bad</th>\n",
       "      <td>2.000000</td>\n",
       "    </tr>\n",
       "    <tr>\n",
       "      <th>update hard navigate</th>\n",
       "      <td>1.687884</td>\n",
       "    </tr>\n",
       "    <tr>\n",
       "      <th>keep getting worse</th>\n",
       "      <td>1.556701</td>\n",
       "    </tr>\n",
       "  </tbody>\n",
       "</table>\n",
       "</div>"
      ],
      "text/plain": [
       "                           score\n",
       "new update ruined       6.502200\n",
       "new update trash        5.000000\n",
       "keeps getting worse     4.000000\n",
       "new update awful        4.000000\n",
       "latest update terrible  3.000000\n",
       "needs lot work          2.673303\n",
       "way many ads            2.673303\n",
       "minutes ad free         2.058437\n",
       "hate new update         2.000000\n",
       "absolutely hate update  2.000000\n",
       "one big problem         2.000000\n",
       "new artist layout       2.000000\n",
       "new update bad          2.000000\n",
       "update hard navigate    1.687884\n",
       "keep getting worse      1.556701"
      ]
     },
     "execution_count": 36,
     "metadata": {},
     "output_type": "execute_result"
    }
   ],
   "source": [
    "stemmer(ios_spotify_negative, 'title')\n",
    "vectorizer((3,3),ios_spotify_negative, 'title').head(15)"
   ]
  },
  {
   "cell_type": "code",
   "execution_count": 37,
   "id": "b0cba5aa",
   "metadata": {
    "ExecuteTime": {
     "end_time": "2021-12-14T19:21:50.231990Z",
     "start_time": "2021-12-14T19:21:45.104074Z"
    }
   },
   "outputs": [
    {
     "name": "stderr",
     "output_type": "stream",
     "text": [
      "C:\\Users\\kardi\\anaconda3\\lib\\site-packages\\sklearn\\utils\\deprecation.py:87: FutureWarning: Function get_feature_names is deprecated; get_feature_names is deprecated in 1.0 and will be removed in 1.2. Please use get_feature_names_out instead.\n",
      "  warnings.warn(msg, category=FutureWarning)\n"
     ]
    },
    {
     "data": {
      "text/html": [
       "<div>\n",
       "<style scoped>\n",
       "    .dataframe tbody tr th:only-of-type {\n",
       "        vertical-align: middle;\n",
       "    }\n",
       "\n",
       "    .dataframe tbody tr th {\n",
       "        vertical-align: top;\n",
       "    }\n",
       "\n",
       "    .dataframe thead th {\n",
       "        text-align: right;\n",
       "    }\n",
       "</style>\n",
       "<table border=\"1\" class=\"dataframe\">\n",
       "  <thead>\n",
       "    <tr style=\"text-align: right;\">\n",
       "      <th></th>\n",
       "      <th>score</th>\n",
       "    </tr>\n",
       "  </thead>\n",
       "  <tbody>\n",
       "    <tr>\n",
       "      <th>minutes ad free</th>\n",
       "      <td>6.517079</td>\n",
       "    </tr>\n",
       "    <tr>\n",
       "      <th>ad free listening</th>\n",
       "      <td>2.336064</td>\n",
       "    </tr>\n",
       "    <tr>\n",
       "      <th>skips per hour</th>\n",
       "      <td>2.294834</td>\n",
       "    </tr>\n",
       "    <tr>\n",
       "      <th>watch short video</th>\n",
       "      <td>2.008735</td>\n",
       "    </tr>\n",
       "    <tr>\n",
       "      <th>every single time</th>\n",
       "      <td>1.784305</td>\n",
       "    </tr>\n",
       "    <tr>\n",
       "      <th>min ad free</th>\n",
       "      <td>1.775020</td>\n",
       "    </tr>\n",
       "    <tr>\n",
       "      <th>watch video minutes</th>\n",
       "      <td>1.763378</td>\n",
       "    </tr>\n",
       "    <tr>\n",
       "      <th>minutes add free</th>\n",
       "      <td>1.743575</td>\n",
       "    </tr>\n",
       "    <tr>\n",
       "      <th>minutes uninterrupted listening</th>\n",
       "      <td>1.621853</td>\n",
       "    </tr>\n",
       "    <tr>\n",
       "      <th>choose want listen</th>\n",
       "      <td>1.612155</td>\n",
       "    </tr>\n",
       "    <tr>\n",
       "      <th>playlist want listen</th>\n",
       "      <td>1.574500</td>\n",
       "    </tr>\n",
       "    <tr>\n",
       "      <th>listen want listen</th>\n",
       "      <td>1.559894</td>\n",
       "    </tr>\n",
       "    <tr>\n",
       "      <th>want listen specific</th>\n",
       "      <td>1.516352</td>\n",
       "    </tr>\n",
       "    <tr>\n",
       "      <th>mins ad free</th>\n",
       "      <td>1.470026</td>\n",
       "    </tr>\n",
       "    <tr>\n",
       "      <th>watch ad minutes</th>\n",
       "      <td>1.466297</td>\n",
       "    </tr>\n",
       "  </tbody>\n",
       "</table>\n",
       "</div>"
      ],
      "text/plain": [
       "                                    score\n",
       "minutes ad free                  6.517079\n",
       "ad free listening                2.336064\n",
       "skips per hour                   2.294834\n",
       "watch short video                2.008735\n",
       "every single time                1.784305\n",
       "min ad free                      1.775020\n",
       "watch video minutes              1.763378\n",
       "minutes add free                 1.743575\n",
       "minutes uninterrupted listening  1.621853\n",
       "choose want listen               1.612155\n",
       "playlist want listen             1.574500\n",
       "listen want listen               1.559894\n",
       "want listen specific             1.516352\n",
       "mins ad free                     1.470026\n",
       "watch ad minutes                 1.466297"
      ]
     },
     "execution_count": 37,
     "metadata": {},
     "output_type": "execute_result"
    }
   ],
   "source": [
    "stemmer(ios_spotify_negative, 'review')\n",
    "vectorizer((3,3),ios_spotify_negative, 'review').head(15)"
   ]
  },
  {
   "cell_type": "code",
   "execution_count": 38,
   "id": "7b1baa10",
   "metadata": {
    "ExecuteTime": {
     "end_time": "2021-12-14T19:21:55.103982Z",
     "start_time": "2021-12-14T19:21:50.231990Z"
    }
   },
   "outputs": [
    {
     "name": "stderr",
     "output_type": "stream",
     "text": [
      "C:\\Users\\kardi\\anaconda3\\lib\\site-packages\\sklearn\\utils\\deprecation.py:87: FutureWarning: Function get_feature_names is deprecated; get_feature_names is deprecated in 1.0 and will be removed in 1.2. Please use get_feature_names_out instead.\n",
      "  warnings.warn(msg, category=FutureWarning)\n"
     ]
    },
    {
     "data": {
      "text/html": [
       "<div>\n",
       "<style scoped>\n",
       "    .dataframe tbody tr th:only-of-type {\n",
       "        vertical-align: middle;\n",
       "    }\n",
       "\n",
       "    .dataframe tbody tr th {\n",
       "        vertical-align: top;\n",
       "    }\n",
       "\n",
       "    .dataframe thead th {\n",
       "        text-align: right;\n",
       "    }\n",
       "</style>\n",
       "<table border=\"1\" class=\"dataframe\">\n",
       "  <thead>\n",
       "    <tr style=\"text-align: right;\">\n",
       "      <th></th>\n",
       "      <th>score</th>\n",
       "    </tr>\n",
       "  </thead>\n",
       "  <tbody>\n",
       "    <tr>\n",
       "      <th>ads ads ads</th>\n",
       "      <td>6.934288</td>\n",
       "    </tr>\n",
       "    <tr>\n",
       "      <th>something went wrong</th>\n",
       "      <td>5.469116</td>\n",
       "    </tr>\n",
       "    <tr>\n",
       "      <th>much ads irritating</th>\n",
       "      <td>5.000000</td>\n",
       "    </tr>\n",
       "    <tr>\n",
       "      <th>way many ads</th>\n",
       "      <td>4.207357</td>\n",
       "    </tr>\n",
       "    <tr>\n",
       "      <th>minutes ad free</th>\n",
       "      <td>4.136071</td>\n",
       "    </tr>\n",
       "    <tr>\n",
       "      <th>bring back car</th>\n",
       "      <td>3.989147</td>\n",
       "    </tr>\n",
       "    <tr>\n",
       "      <th>since last update</th>\n",
       "      <td>3.857175</td>\n",
       "    </tr>\n",
       "    <tr>\n",
       "      <th>back car view</th>\n",
       "      <td>3.507699</td>\n",
       "    </tr>\n",
       "    <tr>\n",
       "      <th>removed car view</th>\n",
       "      <td>3.369336</td>\n",
       "    </tr>\n",
       "    <tr>\n",
       "      <th>tooo many ads</th>\n",
       "      <td>3.070640</td>\n",
       "    </tr>\n",
       "    <tr>\n",
       "      <th>removed car mode</th>\n",
       "      <td>2.966156</td>\n",
       "    </tr>\n",
       "    <tr>\n",
       "      <th>minutes uninterrupted listening</th>\n",
       "      <td>2.940568</td>\n",
       "    </tr>\n",
       "    <tr>\n",
       "      <th>log says offline</th>\n",
       "      <td>2.840878</td>\n",
       "    </tr>\n",
       "    <tr>\n",
       "      <th>mins ad free</th>\n",
       "      <td>2.825524</td>\n",
       "    </tr>\n",
       "    <tr>\n",
       "      <th>keeps saying offline</th>\n",
       "      <td>2.738445</td>\n",
       "    </tr>\n",
       "  </tbody>\n",
       "</table>\n",
       "</div>"
      ],
      "text/plain": [
       "                                    score\n",
       "ads ads ads                      6.934288\n",
       "something went wrong             5.469116\n",
       "much ads irritating              5.000000\n",
       "way many ads                     4.207357\n",
       "minutes ad free                  4.136071\n",
       "bring back car                   3.989147\n",
       "since last update                3.857175\n",
       "back car view                    3.507699\n",
       "removed car view                 3.369336\n",
       "tooo many ads                    3.070640\n",
       "removed car mode                 2.966156\n",
       "minutes uninterrupted listening  2.940568\n",
       "log says offline                 2.840878\n",
       "mins ad free                     2.825524\n",
       "keeps saying offline             2.738445"
      ]
     },
     "execution_count": 38,
     "metadata": {},
     "output_type": "execute_result"
    }
   ],
   "source": [
    "stemmer(android_spotify_negative, 'review')\n",
    "vectorizer((3,3),android_spotify_negative, 'review').head(15)"
   ]
  },
  {
   "cell_type": "markdown",
   "id": "91ccd853",
   "metadata": {},
   "source": [
    "Some recurring negative feedback about Spotify's platform is:\n",
    "- Poor updates\n",
    "- Ads\n",
    "- Not being able to choose what to listen to\n",
    "- No car view/mode"
   ]
  },
  {
   "cell_type": "markdown",
   "id": "0fec0a38",
   "metadata": {},
   "source": [
    "### Positive Reviews"
   ]
  },
  {
   "cell_type": "code",
   "execution_count": 39,
   "id": "d34d7684",
   "metadata": {
    "ExecuteTime": {
     "end_time": "2021-12-14T19:21:56.672008Z",
     "start_time": "2021-12-14T19:21:55.103982Z"
    }
   },
   "outputs": [
    {
     "name": "stderr",
     "output_type": "stream",
     "text": [
      "C:\\Users\\kardi\\anaconda3\\lib\\site-packages\\sklearn\\utils\\deprecation.py:87: FutureWarning: Function get_feature_names is deprecated; get_feature_names is deprecated in 1.0 and will be removed in 1.2. Please use get_feature_names_out instead.\n",
      "  warnings.warn(msg, category=FutureWarning)\n"
     ]
    },
    {
     "data": {
      "text/html": [
       "<div>\n",
       "<style scoped>\n",
       "    .dataframe tbody tr th:only-of-type {\n",
       "        vertical-align: middle;\n",
       "    }\n",
       "\n",
       "    .dataframe tbody tr th {\n",
       "        vertical-align: top;\n",
       "    }\n",
       "\n",
       "    .dataframe thead th {\n",
       "        text-align: right;\n",
       "    }\n",
       "</style>\n",
       "<table border=\"1\" class=\"dataframe\">\n",
       "  <thead>\n",
       "    <tr style=\"text-align: right;\">\n",
       "      <th></th>\n",
       "      <th>score</th>\n",
       "    </tr>\n",
       "  </thead>\n",
       "  <tbody>\n",
       "    <tr>\n",
       "      <th>love one thing</th>\n",
       "      <td>8.271063</td>\n",
       "    </tr>\n",
       "    <tr>\n",
       "      <th>way many ads</th>\n",
       "      <td>6.455955</td>\n",
       "    </tr>\n",
       "    <tr>\n",
       "      <th>hate new update</th>\n",
       "      <td>6.145164</td>\n",
       "    </tr>\n",
       "    <tr>\n",
       "      <th>love one problem</th>\n",
       "      <td>6.000000</td>\n",
       "    </tr>\n",
       "    <tr>\n",
       "      <th>love love love</th>\n",
       "      <td>5.000000</td>\n",
       "    </tr>\n",
       "    <tr>\n",
       "      <th>except one thing</th>\n",
       "      <td>4.188332</td>\n",
       "    </tr>\n",
       "    <tr>\n",
       "      <th>best streaming service</th>\n",
       "      <td>4.158801</td>\n",
       "    </tr>\n",
       "    <tr>\n",
       "      <th>best thing ever</th>\n",
       "      <td>4.000000</td>\n",
       "    </tr>\n",
       "    <tr>\n",
       "      <th>new update horrible</th>\n",
       "      <td>4.000000</td>\n",
       "    </tr>\n",
       "    <tr>\n",
       "      <th>one small problem</th>\n",
       "      <td>4.000000</td>\n",
       "    </tr>\n",
       "    <tr>\n",
       "      <th>minutes ad free</th>\n",
       "      <td>3.640996</td>\n",
       "    </tr>\n",
       "    <tr>\n",
       "      <th>one best apps</th>\n",
       "      <td>3.536604</td>\n",
       "    </tr>\n",
       "    <tr>\n",
       "      <th>love keeps crashing</th>\n",
       "      <td>3.337366</td>\n",
       "    </tr>\n",
       "    <tr>\n",
       "      <th>needs one thing</th>\n",
       "      <td>3.337366</td>\n",
       "    </tr>\n",
       "    <tr>\n",
       "      <th>bring back preview</th>\n",
       "      <td>3.205286</td>\n",
       "    </tr>\n",
       "  </tbody>\n",
       "</table>\n",
       "</div>"
      ],
      "text/plain": [
       "                           score\n",
       "love one thing          8.271063\n",
       "way many ads            6.455955\n",
       "hate new update         6.145164\n",
       "love one problem        6.000000\n",
       "love love love          5.000000\n",
       "except one thing        4.188332\n",
       "best streaming service  4.158801\n",
       "best thing ever         4.000000\n",
       "new update horrible     4.000000\n",
       "one small problem       4.000000\n",
       "minutes ad free         3.640996\n",
       "one best apps           3.536604\n",
       "love keeps crashing     3.337366\n",
       "needs one thing         3.337366\n",
       "bring back preview      3.205286"
      ]
     },
     "execution_count": 39,
     "metadata": {},
     "output_type": "execute_result"
    }
   ],
   "source": [
    "stemmer(ios_spotify_positive, 'title')\n",
    "vectorizer((3,3),ios_spotify_positive, 'title').head(15)"
   ]
  },
  {
   "cell_type": "code",
   "execution_count": 40,
   "id": "a539012d",
   "metadata": {
    "ExecuteTime": {
     "end_time": "2021-12-14T19:22:14.767985Z",
     "start_time": "2021-12-14T19:21:56.672008Z"
    }
   },
   "outputs": [
    {
     "name": "stderr",
     "output_type": "stream",
     "text": [
      "C:\\Users\\kardi\\anaconda3\\lib\\site-packages\\sklearn\\utils\\deprecation.py:87: FutureWarning: Function get_feature_names is deprecated; get_feature_names is deprecated in 1.0 and will be removed in 1.2. Please use get_feature_names_out instead.\n",
      "  warnings.warn(msg, category=FutureWarning)\n"
     ]
    },
    {
     "data": {
      "text/html": [
       "<div>\n",
       "<style scoped>\n",
       "    .dataframe tbody tr th:only-of-type {\n",
       "        vertical-align: middle;\n",
       "    }\n",
       "\n",
       "    .dataframe tbody tr th {\n",
       "        vertical-align: top;\n",
       "    }\n",
       "\n",
       "    .dataframe thead th {\n",
       "        text-align: right;\n",
       "    }\n",
       "</style>\n",
       "<table border=\"1\" class=\"dataframe\">\n",
       "  <thead>\n",
       "    <tr style=\"text-align: right;\">\n",
       "      <th></th>\n",
       "      <th>score</th>\n",
       "    </tr>\n",
       "  </thead>\n",
       "  <tbody>\n",
       "    <tr>\n",
       "      <th>minutes ad free</th>\n",
       "      <td>12.182929</td>\n",
       "    </tr>\n",
       "    <tr>\n",
       "      <th>skips per hour</th>\n",
       "      <td>9.639739</td>\n",
       "    </tr>\n",
       "    <tr>\n",
       "      <th>minutes uninterrupted listening</th>\n",
       "      <td>4.853266</td>\n",
       "    </tr>\n",
       "    <tr>\n",
       "      <th>watch video minutes</th>\n",
       "      <td>4.240508</td>\n",
       "    </tr>\n",
       "    <tr>\n",
       "      <th>ad free listening</th>\n",
       "      <td>4.051657</td>\n",
       "    </tr>\n",
       "    <tr>\n",
       "      <th>every time try</th>\n",
       "      <td>3.935418</td>\n",
       "    </tr>\n",
       "    <tr>\n",
       "      <th>watch short video</th>\n",
       "      <td>3.737825</td>\n",
       "    </tr>\n",
       "    <tr>\n",
       "      <th>one best apps</th>\n",
       "      <td>3.670050</td>\n",
       "    </tr>\n",
       "    <tr>\n",
       "      <th>give five stars</th>\n",
       "      <td>3.429797</td>\n",
       "    </tr>\n",
       "    <tr>\n",
       "      <th>want listen playlist</th>\n",
       "      <td>3.186195</td>\n",
       "    </tr>\n",
       "    <tr>\n",
       "      <th>playlist want listen</th>\n",
       "      <td>3.174907</td>\n",
       "    </tr>\n",
       "    <tr>\n",
       "      <th>minutes add free</th>\n",
       "      <td>3.148292</td>\n",
       "    </tr>\n",
       "    <tr>\n",
       "      <th>video minutes ad</th>\n",
       "      <td>3.147118</td>\n",
       "    </tr>\n",
       "    <tr>\n",
       "      <th>every time open</th>\n",
       "      <td>3.096313</td>\n",
       "    </tr>\n",
       "    <tr>\n",
       "      <th>way many ads</th>\n",
       "      <td>2.970751</td>\n",
       "    </tr>\n",
       "    <tr>\n",
       "      <th>love using years</th>\n",
       "      <td>2.879873</td>\n",
       "    </tr>\n",
       "    <tr>\n",
       "      <th>every single day</th>\n",
       "      <td>2.837238</td>\n",
       "    </tr>\n",
       "    <tr>\n",
       "      <th>watch ad minutes</th>\n",
       "      <td>2.819226</td>\n",
       "    </tr>\n",
       "    <tr>\n",
       "      <th>choose want listen</th>\n",
       "      <td>2.672640</td>\n",
       "    </tr>\n",
       "    <tr>\n",
       "      <th>pick want listen</th>\n",
       "      <td>2.625532</td>\n",
       "    </tr>\n",
       "  </tbody>\n",
       "</table>\n",
       "</div>"
      ],
      "text/plain": [
       "                                     score\n",
       "minutes ad free                  12.182929\n",
       "skips per hour                    9.639739\n",
       "minutes uninterrupted listening   4.853266\n",
       "watch video minutes               4.240508\n",
       "ad free listening                 4.051657\n",
       "every time try                    3.935418\n",
       "watch short video                 3.737825\n",
       "one best apps                     3.670050\n",
       "give five stars                   3.429797\n",
       "want listen playlist              3.186195\n",
       "playlist want listen              3.174907\n",
       "minutes add free                  3.148292\n",
       "video minutes ad                  3.147118\n",
       "every time open                   3.096313\n",
       "way many ads                      2.970751\n",
       "love using years                  2.879873\n",
       "every single day                  2.837238\n",
       "watch ad minutes                  2.819226\n",
       "choose want listen                2.672640\n",
       "pick want listen                  2.625532"
      ]
     },
     "execution_count": 40,
     "metadata": {},
     "output_type": "execute_result"
    }
   ],
   "source": [
    "stemmer(ios_spotify_positive, 'review')\n",
    "vectorizer((3,3),ios_spotify_positive, 'review').head(20)"
   ]
  },
  {
   "cell_type": "code",
   "execution_count": 41,
   "id": "05a33066",
   "metadata": {
    "ExecuteTime": {
     "end_time": "2021-12-14T19:22:21.607978Z",
     "start_time": "2021-12-14T19:22:14.767985Z"
    }
   },
   "outputs": [
    {
     "name": "stderr",
     "output_type": "stream",
     "text": [
      "C:\\Users\\kardi\\anaconda3\\lib\\site-packages\\sklearn\\utils\\deprecation.py:87: FutureWarning: Function get_feature_names is deprecated; get_feature_names is deprecated in 1.0 and will be removed in 1.2. Please use get_feature_names_out instead.\n",
      "  warnings.warn(msg, category=FutureWarning)\n"
     ]
    },
    {
     "data": {
      "text/html": [
       "<div>\n",
       "<style scoped>\n",
       "    .dataframe tbody tr th:only-of-type {\n",
       "        vertical-align: middle;\n",
       "    }\n",
       "\n",
       "    .dataframe tbody tr th {\n",
       "        vertical-align: top;\n",
       "    }\n",
       "\n",
       "    .dataframe thead th {\n",
       "        text-align: right;\n",
       "    }\n",
       "</style>\n",
       "<table border=\"1\" class=\"dataframe\">\n",
       "  <thead>\n",
       "    <tr style=\"text-align: right;\">\n",
       "      <th></th>\n",
       "      <th>score</th>\n",
       "    </tr>\n",
       "  </thead>\n",
       "  <tbody>\n",
       "    <tr>\n",
       "      <th>best ever used</th>\n",
       "      <td>10.534250</td>\n",
       "    </tr>\n",
       "    <tr>\n",
       "      <th>finally added lyrics</th>\n",
       "      <td>8.250680</td>\n",
       "    </tr>\n",
       "    <tr>\n",
       "      <th>love love love</th>\n",
       "      <td>7.621479</td>\n",
       "    </tr>\n",
       "    <tr>\n",
       "      <th>best experience ever</th>\n",
       "      <td>7.000000</td>\n",
       "    </tr>\n",
       "    <tr>\n",
       "      <th>new lyrics feature</th>\n",
       "      <td>6.601673</td>\n",
       "    </tr>\n",
       "    <tr>\n",
       "      <th>best streaming service</th>\n",
       "      <td>6.393591</td>\n",
       "    </tr>\n",
       "    <tr>\n",
       "      <th>best streaming platform</th>\n",
       "      <td>6.025654</td>\n",
       "    </tr>\n",
       "    <tr>\n",
       "      <th>one best apps</th>\n",
       "      <td>5.785165</td>\n",
       "    </tr>\n",
       "    <tr>\n",
       "      <th>best streaming ever</th>\n",
       "      <td>5.726398</td>\n",
       "    </tr>\n",
       "    <tr>\n",
       "      <th>love new update</th>\n",
       "      <td>4.868738</td>\n",
       "    </tr>\n",
       "    <tr>\n",
       "      <th>love new lyrics</th>\n",
       "      <td>4.670034</td>\n",
       "    </tr>\n",
       "    <tr>\n",
       "      <th>new update lyrics</th>\n",
       "      <td>3.956353</td>\n",
       "    </tr>\n",
       "    <tr>\n",
       "      <th>excellent sound quality</th>\n",
       "      <td>3.741273</td>\n",
       "    </tr>\n",
       "    <tr>\n",
       "      <th>easy find looking</th>\n",
       "      <td>3.687377</td>\n",
       "    </tr>\n",
       "    <tr>\n",
       "      <th>best ever seen</th>\n",
       "      <td>3.645002</td>\n",
       "    </tr>\n",
       "  </tbody>\n",
       "</table>\n",
       "</div>"
      ],
      "text/plain": [
       "                             score\n",
       "best ever used           10.534250\n",
       "finally added lyrics      8.250680\n",
       "love love love            7.621479\n",
       "best experience ever      7.000000\n",
       "new lyrics feature        6.601673\n",
       "best streaming service    6.393591\n",
       "best streaming platform   6.025654\n",
       "one best apps             5.785165\n",
       "best streaming ever       5.726398\n",
       "love new update           4.868738\n",
       "love new lyrics           4.670034\n",
       "new update lyrics         3.956353\n",
       "excellent sound quality   3.741273\n",
       "easy find looking         3.687377\n",
       "best ever seen            3.645002"
      ]
     },
     "execution_count": 41,
     "metadata": {},
     "output_type": "execute_result"
    }
   ],
   "source": [
    "stemmer(android_spotify_positive, 'review')\n",
    "vectorizer((3,3),android_spotify_positive, 'review').head(15)"
   ]
  },
  {
   "cell_type": "markdown",
   "id": "f786c32a",
   "metadata": {},
   "source": [
    "Some recurring positive feedback about Spotify's platform is:\n",
    "- Allowed to skip a set number of songs per hour\n",
    "- Lyric viewing capabilities\n",
    "- Sound quality"
   ]
  }
 ],
 "metadata": {
  "kernelspec": {
   "display_name": "Python 3 (ipykernel)",
   "language": "python",
   "name": "python3"
  },
  "language_info": {
   "codemirror_mode": {
    "name": "ipython",
    "version": 3
   },
   "file_extension": ".py",
   "mimetype": "text/x-python",
   "name": "python",
   "nbconvert_exporter": "python",
   "pygments_lexer": "ipython3",
   "version": "3.8.12"
  },
  "varInspector": {
   "cols": {
    "lenName": 16,
    "lenType": 16,
    "lenVar": 40
   },
   "kernels_config": {
    "python": {
     "delete_cmd_postfix": "",
     "delete_cmd_prefix": "del ",
     "library": "var_list.py",
     "varRefreshCmd": "print(var_dic_list())"
    },
    "r": {
     "delete_cmd_postfix": ") ",
     "delete_cmd_prefix": "rm(",
     "library": "var_list.r",
     "varRefreshCmd": "cat(var_dic_list()) "
    }
   },
   "types_to_exclude": [
    "module",
    "function",
    "builtin_function_or_method",
    "instance",
    "_Feature"
   ],
   "window_display": false
  }
 },
 "nbformat": 4,
 "nbformat_minor": 5
}
