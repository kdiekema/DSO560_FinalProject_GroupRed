{
 "cells": [
  {
   "cell_type": "code",
   "execution_count": 2,
   "metadata": {
    "ExecuteTime": {
     "end_time": "2021-12-14T18:32:55.846824Z",
     "start_time": "2021-12-14T18:32:54.685857Z"
    }
   },
   "outputs": [],
   "source": [
    "import pandas as pd"
   ]
  },
  {
   "cell_type": "code",
   "execution_count": 6,
   "metadata": {
    "ExecuteTime": {
     "end_time": "2021-12-14T18:37:18.075671Z",
     "start_time": "2021-12-14T18:37:17.499636Z"
    }
   },
   "outputs": [
    {
     "data": {
      "text/html": [
       "<div>\n",
       "<style scoped>\n",
       "    .dataframe tbody tr th:only-of-type {\n",
       "        vertical-align: middle;\n",
       "    }\n",
       "\n",
       "    .dataframe tbody tr th {\n",
       "        vertical-align: top;\n",
       "    }\n",
       "\n",
       "    .dataframe thead th {\n",
       "        text-align: right;\n",
       "    }\n",
       "</style>\n",
       "<table border=\"1\" class=\"dataframe\">\n",
       "  <thead>\n",
       "    <tr style=\"text-align: right;\">\n",
       "      <th></th>\n",
       "      <th>review</th>\n",
       "      <th>title</th>\n",
       "      <th>rating</th>\n",
       "      <th>music_app</th>\n",
       "      <th>platform</th>\n",
       "    </tr>\n",
       "  </thead>\n",
       "  <tbody>\n",
       "    <tr>\n",
       "      <th>0</th>\n",
       "      <td>This is by far the best music app I have ever ...</td>\n",
       "      <td>This is the best for me....</td>\n",
       "      <td>5</td>\n",
       "      <td>Amazon</td>\n",
       "      <td>iOS</td>\n",
       "    </tr>\n",
       "    <tr>\n",
       "      <th>1</th>\n",
       "      <td>I really like this app but I have tried an tri...</td>\n",
       "      <td>The refreshing is annoying</td>\n",
       "      <td>4</td>\n",
       "      <td>Amazon</td>\n",
       "      <td>iOS</td>\n",
       "    </tr>\n",
       "    <tr>\n",
       "      <th>2</th>\n",
       "      <td>This app is great, i've been using it for a co...</td>\n",
       "      <td>Glitchy songs</td>\n",
       "      <td>4</td>\n",
       "      <td>Amazon</td>\n",
       "      <td>iOS</td>\n",
       "    </tr>\n",
       "    <tr>\n",
       "      <th>3</th>\n",
       "      <td>Not a bad music app. Selection is good could b...</td>\n",
       "      <td>Needs Garlic</td>\n",
       "      <td>3</td>\n",
       "      <td>Amazon</td>\n",
       "      <td>iOS</td>\n",
       "    </tr>\n",
       "    <tr>\n",
       "      <th>4</th>\n",
       "      <td>This is one of the most used app on my phone, ...</td>\n",
       "      <td>Love the Alexa integration, Hate the constant ...</td>\n",
       "      <td>2</td>\n",
       "      <td>Amazon</td>\n",
       "      <td>iOS</td>\n",
       "    </tr>\n",
       "  </tbody>\n",
       "</table>\n",
       "</div>"
      ],
      "text/plain": [
       "                                              review  \\\n",
       "0  This is by far the best music app I have ever ...   \n",
       "1  I really like this app but I have tried an tri...   \n",
       "2  This app is great, i've been using it for a co...   \n",
       "3  Not a bad music app. Selection is good could b...   \n",
       "4  This is one of the most used app on my phone, ...   \n",
       "\n",
       "                                               title  rating music_app  \\\n",
       "0                        This is the best for me....       5    Amazon   \n",
       "1                         The refreshing is annoying       4    Amazon   \n",
       "2                                      Glitchy songs       4    Amazon   \n",
       "3                                       Needs Garlic       3    Amazon   \n",
       "4  Love the Alexa integration, Hate the constant ...       2    Amazon   \n",
       "\n",
       "  platform  \n",
       "0      iOS  \n",
       "1      iOS  \n",
       "2      iOS  \n",
       "3      iOS  \n",
       "4      iOS  "
      ]
     },
     "execution_count": 6,
     "metadata": {},
     "output_type": "execute_result"
    }
   ],
   "source": [
    "# App store data -- DATA FOR SENTIMENT ANALYSIS - In this data set I keep the platform (iOS and Android) and \n",
    "#I keep the titles from the iOS reviews because those can reveal information too\n",
    "app_amazon_data = pd.read_csv(\"App-Store-Reviews-amazon-music-songs-podcasts.csv\", usecols = [\"review\", \"rating\", \"title\"])\n",
    "app_amazon_data[\"music_app\"] = \"Amazon\"\n",
    "app_amazon_data[\"platform\"] = \"iOS\"\n",
    "\n",
    "app_apple_data = pd.read_csv(\"App-Store-Reviews-apple-music.csv\", usecols = [\"review\", \"rating\", \"title\"])\n",
    "app_apple_data[\"music_app\"] = \"Apple\"\n",
    "app_apple_data[\"platform\"] = \"iOS\"\n",
    "\n",
    "app_spotify_data = pd.read_csv(\"App-Store-Reviews-spotify-new-music-and-podcasts.csv\", usecols = [\"review\", \"rating\", \"title\"])\n",
    "app_spotify_data[\"music_app\"] = \"Spotify\"\n",
    "app_spotify_data[\"platform\"] = \"iOS\"\n",
    "\n",
    "# Google Play data\n",
    "goog_amazon_data = pd.read_csv(\"Google-Play-Reviews-Amazon Music.csv\", usecols = [\"content\", \"score\"])\n",
    "goog_amazon_data[\"music_app\"] = \"Amazon\"\n",
    "goog_amazon_data[\"platform\"] = \"android\"\n",
    "goog_amazon_data.columns = ['review', 'rating', 'music_app', 'platform']\n",
    "\n",
    "goog_apple_data = pd.read_csv(\"Google-Play-Reviews-Apple Music.csv\", usecols = [\"content\", \"score\"])\n",
    "goog_apple_data[\"music_app\"] = \"Apple\"\n",
    "goog_apple_data[\"platform\"] = \"android\"\n",
    "goog_apple_data.columns = ['review', 'rating', 'music_app', 'platform']\n",
    "\n",
    "goog_spotify_data = pd.read_csv(\"Google-Play-Reviews-Spotify.csv\", usecols = [\"content\", \"score\"])\n",
    "goog_spotify_data[\"music_app\"] = \"Spotify\"\n",
    "goog_spotify_data[\"platform\"] = \"android\"\n",
    "goog_spotify_data.columns = ['review', 'rating', 'music_app', 'platform']\n",
    "\n",
    "# add dataframes together but keep platforms separate since apple data has an extra column\n",
    "ios_analysis_data = pd.concat([app_amazon_data, app_apple_data, app_spotify_data]).reset_index(drop = True)\n",
    "android_analysis_data = pd.concat([goog_amazon_data, goog_apple_data, goog_spotify_data]).reset_index(drop = True)\n",
    "\n",
    "ios_analysis_data.head()"
   ]
  },
  {
   "cell_type": "code",
   "execution_count": 9,
   "metadata": {
    "ExecuteTime": {
     "end_time": "2021-12-14T18:38:44.332331Z",
     "start_time": "2021-12-14T18:38:44.324331Z"
    }
   },
   "outputs": [],
   "source": [
    "def dropna(data):\n",
    "    print(len(data))\n",
    "    data = data.dropna()\n",
    "    print(len(data))\n",
    "    return data"
   ]
  },
  {
   "cell_type": "code",
   "execution_count": 10,
   "metadata": {
    "ExecuteTime": {
     "end_time": "2021-12-14T18:38:45.196364Z",
     "start_time": "2021-12-14T18:38:45.164330Z"
    }
   },
   "outputs": [
    {
     "name": "stdout",
     "output_type": "stream",
     "text": [
      "20654\n",
      "20654\n"
     ]
    },
    {
     "data": {
      "text/html": [
       "<div>\n",
       "<style scoped>\n",
       "    .dataframe tbody tr th:only-of-type {\n",
       "        vertical-align: middle;\n",
       "    }\n",
       "\n",
       "    .dataframe tbody tr th {\n",
       "        vertical-align: top;\n",
       "    }\n",
       "\n",
       "    .dataframe thead th {\n",
       "        text-align: right;\n",
       "    }\n",
       "</style>\n",
       "<table border=\"1\" class=\"dataframe\">\n",
       "  <thead>\n",
       "    <tr style=\"text-align: right;\">\n",
       "      <th></th>\n",
       "      <th>review</th>\n",
       "      <th>title</th>\n",
       "      <th>rating</th>\n",
       "      <th>music_app</th>\n",
       "      <th>platform</th>\n",
       "    </tr>\n",
       "  </thead>\n",
       "  <tbody>\n",
       "    <tr>\n",
       "      <th>0</th>\n",
       "      <td>This is by far the best music app I have ever ...</td>\n",
       "      <td>This is the best for me....</td>\n",
       "      <td>5</td>\n",
       "      <td>Amazon</td>\n",
       "      <td>iOS</td>\n",
       "    </tr>\n",
       "    <tr>\n",
       "      <th>1</th>\n",
       "      <td>I really like this app but I have tried an tri...</td>\n",
       "      <td>The refreshing is annoying</td>\n",
       "      <td>4</td>\n",
       "      <td>Amazon</td>\n",
       "      <td>iOS</td>\n",
       "    </tr>\n",
       "    <tr>\n",
       "      <th>2</th>\n",
       "      <td>This app is great, i've been using it for a co...</td>\n",
       "      <td>Glitchy songs</td>\n",
       "      <td>4</td>\n",
       "      <td>Amazon</td>\n",
       "      <td>iOS</td>\n",
       "    </tr>\n",
       "    <tr>\n",
       "      <th>3</th>\n",
       "      <td>Not a bad music app. Selection is good could b...</td>\n",
       "      <td>Needs Garlic</td>\n",
       "      <td>3</td>\n",
       "      <td>Amazon</td>\n",
       "      <td>iOS</td>\n",
       "    </tr>\n",
       "    <tr>\n",
       "      <th>4</th>\n",
       "      <td>This is one of the most used app on my phone, ...</td>\n",
       "      <td>Love the Alexa integration, Hate the constant ...</td>\n",
       "      <td>2</td>\n",
       "      <td>Amazon</td>\n",
       "      <td>iOS</td>\n",
       "    </tr>\n",
       "    <tr>\n",
       "      <th>...</th>\n",
       "      <td>...</td>\n",
       "      <td>...</td>\n",
       "      <td>...</td>\n",
       "      <td>...</td>\n",
       "      <td>...</td>\n",
       "    </tr>\n",
       "    <tr>\n",
       "      <th>20649</th>\n",
       "      <td>Overall, this app has been on point for the ye...</td>\n",
       "      <td>Good, but...</td>\n",
       "      <td>4</td>\n",
       "      <td>Spotify</td>\n",
       "      <td>iOS</td>\n",
       "    </tr>\n",
       "    <tr>\n",
       "      <th>20650</th>\n",
       "      <td>When I got on my iPad to play music it gave my...</td>\n",
       "      <td>It needs a little fixing</td>\n",
       "      <td>4</td>\n",
       "      <td>Spotify</td>\n",
       "      <td>iOS</td>\n",
       "    </tr>\n",
       "    <tr>\n",
       "      <th>20651</th>\n",
       "      <td>I absolutely love this app, for someone who do...</td>\n",
       "      <td>ADDS ARE SO REPETITIVE</td>\n",
       "      <td>3</td>\n",
       "      <td>Spotify</td>\n",
       "      <td>iOS</td>\n",
       "    </tr>\n",
       "    <tr>\n",
       "      <th>20652</th>\n",
       "      <td>You say that if I watch a 30 second commercial...</td>\n",
       "      <td>30 second community</td>\n",
       "      <td>1</td>\n",
       "      <td>Spotify</td>\n",
       "      <td>iOS</td>\n",
       "    </tr>\n",
       "    <tr>\n",
       "      <th>20653</th>\n",
       "      <td>Yeah its a good app &amp; all but every time i pre...</td>\n",
       "      <td>Constant crashing &amp; bugs</td>\n",
       "      <td>2</td>\n",
       "      <td>Spotify</td>\n",
       "      <td>iOS</td>\n",
       "    </tr>\n",
       "  </tbody>\n",
       "</table>\n",
       "<p>20654 rows × 5 columns</p>\n",
       "</div>"
      ],
      "text/plain": [
       "                                                  review  \\\n",
       "0      This is by far the best music app I have ever ...   \n",
       "1      I really like this app but I have tried an tri...   \n",
       "2      This app is great, i've been using it for a co...   \n",
       "3      Not a bad music app. Selection is good could b...   \n",
       "4      This is one of the most used app on my phone, ...   \n",
       "...                                                  ...   \n",
       "20649  Overall, this app has been on point for the ye...   \n",
       "20650  When I got on my iPad to play music it gave my...   \n",
       "20651  I absolutely love this app, for someone who do...   \n",
       "20652  You say that if I watch a 30 second commercial...   \n",
       "20653  Yeah its a good app & all but every time i pre...   \n",
       "\n",
       "                                                   title  rating music_app  \\\n",
       "0                            This is the best for me....       5    Amazon   \n",
       "1                             The refreshing is annoying       4    Amazon   \n",
       "2                                          Glitchy songs       4    Amazon   \n",
       "3                                           Needs Garlic       3    Amazon   \n",
       "4      Love the Alexa integration, Hate the constant ...       2    Amazon   \n",
       "...                                                  ...     ...       ...   \n",
       "20649                                       Good, but...       4   Spotify   \n",
       "20650                           It needs a little fixing       4   Spotify   \n",
       "20651                             ADDS ARE SO REPETITIVE       3   Spotify   \n",
       "20652                                30 second community       1   Spotify   \n",
       "20653                           Constant crashing & bugs       2   Spotify   \n",
       "\n",
       "      platform  \n",
       "0          iOS  \n",
       "1          iOS  \n",
       "2          iOS  \n",
       "3          iOS  \n",
       "4          iOS  \n",
       "...        ...  \n",
       "20649      iOS  \n",
       "20650      iOS  \n",
       "20651      iOS  \n",
       "20652      iOS  \n",
       "20653      iOS  \n",
       "\n",
       "[20654 rows x 5 columns]"
      ]
     },
     "execution_count": 10,
     "metadata": {},
     "output_type": "execute_result"
    }
   ],
   "source": [
    "ios_analysis_data= dropna(ios_analysis_data)"
   ]
  },
  {
   "cell_type": "code",
   "execution_count": 19,
   "metadata": {
    "ExecuteTime": {
     "end_time": "2021-12-14T19:00:28.220167Z",
     "start_time": "2021-12-14T19:00:28.180193Z"
    }
   },
   "outputs": [
    {
     "name": "stdout",
     "output_type": "stream",
     "text": [
      "51400\n",
      "51397\n"
     ]
    }
   ],
   "source": [
    "android_analysis_data =dropna(android_analysis_data)"
   ]
  },
  {
   "cell_type": "code",
   "execution_count": 13,
   "metadata": {
    "ExecuteTime": {
     "end_time": "2021-12-14T18:39:22.674642Z",
     "start_time": "2021-12-14T18:39:22.146648Z"
    }
   },
   "outputs": [
    {
     "data": {
      "text/html": [
       "<div>\n",
       "<style scoped>\n",
       "    .dataframe tbody tr th:only-of-type {\n",
       "        vertical-align: middle;\n",
       "    }\n",
       "\n",
       "    .dataframe tbody tr th {\n",
       "        vertical-align: top;\n",
       "    }\n",
       "\n",
       "    .dataframe thead th {\n",
       "        text-align: right;\n",
       "    }\n",
       "</style>\n",
       "<table border=\"1\" class=\"dataframe\">\n",
       "  <thead>\n",
       "    <tr style=\"text-align: right;\">\n",
       "      <th></th>\n",
       "      <th>review</th>\n",
       "      <th>rating</th>\n",
       "      <th>music_app</th>\n",
       "    </tr>\n",
       "  </thead>\n",
       "  <tbody>\n",
       "    <tr>\n",
       "      <th>0</th>\n",
       "      <td>This is by far the best music app I have ever ...</td>\n",
       "      <td>5</td>\n",
       "      <td>Amazon</td>\n",
       "    </tr>\n",
       "    <tr>\n",
       "      <th>1</th>\n",
       "      <td>I really like this app but I have tried an tri...</td>\n",
       "      <td>4</td>\n",
       "      <td>Amazon</td>\n",
       "    </tr>\n",
       "    <tr>\n",
       "      <th>2</th>\n",
       "      <td>This app is great, i've been using it for a co...</td>\n",
       "      <td>4</td>\n",
       "      <td>Amazon</td>\n",
       "    </tr>\n",
       "    <tr>\n",
       "      <th>3</th>\n",
       "      <td>Not a bad music app. Selection is good could b...</td>\n",
       "      <td>3</td>\n",
       "      <td>Amazon</td>\n",
       "    </tr>\n",
       "    <tr>\n",
       "      <th>4</th>\n",
       "      <td>This is one of the most used app on my phone, ...</td>\n",
       "      <td>2</td>\n",
       "      <td>Amazon</td>\n",
       "    </tr>\n",
       "  </tbody>\n",
       "</table>\n",
       "</div>"
      ],
      "text/plain": [
       "                                              review  rating music_app\n",
       "0  This is by far the best music app I have ever ...       5    Amazon\n",
       "1  I really like this app but I have tried an tri...       4    Amazon\n",
       "2  This app is great, i've been using it for a co...       4    Amazon\n",
       "3  Not a bad music app. Selection is good could b...       3    Amazon\n",
       "4  This is one of the most used app on my phone, ...       2    Amazon"
      ]
     },
     "execution_count": 13,
     "metadata": {},
     "output_type": "execute_result"
    }
   ],
   "source": [
    "# App store data -- DATA FOR CLASSIFICATION\n",
    "app_amazon_data = pd.read_csv(\"App-Store-Reviews-amazon-music-songs-podcasts.csv\", usecols = [\"review\", \"rating\"])\n",
    "app_amazon_data[\"music_app\"] = \"Amazon\"\n",
    "\n",
    "app_apple_data = pd.read_csv(\"App-Store-Reviews-apple-music.csv\", usecols = [\"review\", \"rating\"])\n",
    "app_apple_data[\"music_app\"] = \"Apple\"\n",
    "\n",
    "app_spotify_data = pd.read_csv(\"App-Store-Reviews-spotify-new-music-and-podcasts.csv\", usecols = [\"review\", \"rating\"])\n",
    "app_spotify_data[\"music_app\"] = \"Spotify\"\n",
    "\n",
    "# Google Play data\n",
    "goog_amazon_data = pd.read_csv(\"Google-Play-Reviews-Amazon Music.csv\", usecols = [\"content\", \"score\"])\n",
    "goog_amazon_data[\"music_app\"] = \"Amazon\"\n",
    "goog_amazon_data.columns = ['review', 'rating', 'music_app']\n",
    "\n",
    "goog_apple_data = pd.read_csv(\"Google-Play-Reviews-Apple Music.csv\", usecols = [\"content\", \"score\"])\n",
    "goog_apple_data[\"music_app\"] = \"Apple\"\n",
    "goog_apple_data.columns = ['review', 'rating', 'music_app']\n",
    "\n",
    "goog_spotify_data = pd.read_csv(\"Google-Play-Reviews-Spotify.csv\", usecols = [\"content\", \"score\"])\n",
    "goog_spotify_data[\"music_app\"] = \"Spotify\"\n",
    "goog_spotify_data.columns = ['review', 'rating', 'music_app']\n",
    "\n",
    "# add dataframes together\n",
    "master_data = pd.concat([app_amazon_data, app_apple_data, app_spotify_data,\\\n",
    "                         goog_amazon_data, goog_apple_data, goog_spotify_data]).reset_index(drop = True)\n",
    "\n",
    "master_data.head()"
   ]
  },
  {
   "cell_type": "code",
   "execution_count": 21,
   "metadata": {
    "ExecuteTime": {
     "end_time": "2021-12-14T19:00:43.434974Z",
     "start_time": "2021-12-14T19:00:43.402750Z"
    }
   },
   "outputs": [
    {
     "name": "stdout",
     "output_type": "stream",
     "text": [
      "72054\n",
      "72051\n"
     ]
    }
   ],
   "source": [
    "master_data = dropna(master_data)\n",
    "# we dropped 3 NA values"
   ]
  },
  {
   "cell_type": "code",
   "execution_count": 15,
   "metadata": {
    "ExecuteTime": {
     "end_time": "2021-12-14T18:39:26.586918Z",
     "start_time": "2021-12-14T18:39:26.538958Z"
    }
   },
   "outputs": [
    {
     "name": "stdout",
     "output_type": "stream",
     "text": [
      "The dimensions of our dataframe are (72054, 3)\n",
      "Our dataframe looks like \n",
      "                                               review  rating music_app\n",
      "0  This is by far the best music app I have ever ...       5    Amazon\n",
      "1  I really like this app but I have tried an tri...       4    Amazon\n",
      "2  This app is great, i've been using it for a co...       4    Amazon\n",
      "3  Not a bad music app. Selection is good could b...       3    Amazon\n",
      "4  This is one of the most used app on my phone, ...       2    Amazon\n",
      "\n",
      "The number of reviews by music app is music_app\n",
      "Amazon     21000\n",
      "Apple      20854\n",
      "Spotify    30200\n",
      "dtype: int64\n",
      "\n",
      "The number of ratings is rating\n",
      "1    15994\n",
      "2     5837\n",
      "3     7129\n",
      "4     9533\n",
      "5    33561\n",
      "dtype: int64\n",
      "\n",
      "The number of ratings by app is music_app  rating\n",
      "Amazon     1          3374\n",
      "           2          1663\n",
      "           3          2091\n",
      "           4          3231\n",
      "           5         10641\n",
      "Apple      1          7707\n",
      "           2          2105\n",
      "           3          2049\n",
      "           4          1842\n",
      "           5          7151\n",
      "Spotify    1          4913\n",
      "           2          2069\n",
      "           3          2989\n",
      "           4          4460\n",
      "           5         15769\n",
      "dtype: int64\n"
     ]
    }
   ],
   "source": [
    "print(f'The dimensions of our dataframe are {master_data.shape}')\n",
    "print(f'Our dataframe looks like \\n {master_data.head()}')\n",
    "print(f'\\nThe number of reviews by music app is {master_data.groupby(\"music_app\").size()}')\n",
    "print(f'\\nThe number of ratings is {master_data.groupby(\"rating\").size()}')\n",
    "print(f'\\nThe number of ratings by app is {master_data.groupby([\"music_app\",\"rating\"]).size()}')"
   ]
  },
  {
   "cell_type": "code",
   "execution_count": 22,
   "metadata": {
    "ExecuteTime": {
     "end_time": "2021-12-14T19:00:53.568647Z",
     "start_time": "2021-12-14T19:00:52.904864Z"
    }
   },
   "outputs": [],
   "source": [
    "# to save the data\n",
    "# ios_analysis_data.to_csv('ios_data.csv')\n",
    "# android_analysis_data.to_csv('android_data.csv')\n",
    "#x = master_data.to_csv(\"master_data.csv\")"
   ]
  }
 ],
 "metadata": {
  "kernelspec": {
   "display_name": "Python 3 (ipykernel)",
   "language": "python",
   "name": "python3"
  },
  "language_info": {
   "codemirror_mode": {
    "name": "ipython",
    "version": 3
   },
   "file_extension": ".py",
   "mimetype": "text/x-python",
   "name": "python",
   "nbconvert_exporter": "python",
   "pygments_lexer": "ipython3",
   "version": "3.8.12"
  },
  "varInspector": {
   "cols": {
    "lenName": 16,
    "lenType": 16,
    "lenVar": 40
   },
   "kernels_config": {
    "python": {
     "delete_cmd_postfix": "",
     "delete_cmd_prefix": "del ",
     "library": "var_list.py",
     "varRefreshCmd": "print(var_dic_list())"
    },
    "r": {
     "delete_cmd_postfix": ") ",
     "delete_cmd_prefix": "rm(",
     "library": "var_list.r",
     "varRefreshCmd": "cat(var_dic_list()) "
    }
   },
   "types_to_exclude": [
    "module",
    "function",
    "builtin_function_or_method",
    "instance",
    "_Feature"
   ],
   "window_display": false
  }
 },
 "nbformat": 4,
 "nbformat_minor": 4
}
